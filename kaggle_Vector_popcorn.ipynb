{
 "cells": [
  {
   "cell_type": "code",
   "execution_count": 3,
   "metadata": {
    "colab": {
     "base_uri": "https://localhost:8080/"
    },
    "executionInfo": {
     "elapsed": 6,
     "status": "ok",
     "timestamp": 1633252037273,
     "user": {
      "displayName": "이지영",
      "photoUrl": "https://lh3.googleusercontent.com/a-/AOh14Gj2chENaxtL9YdQguKPKFbRgoMTO7ZXePMYvNlMJQ=s64",
      "userId": "07841351895075120936"
     },
     "user_tz": -540
    },
    "id": "cEh9fv0atr90",
    "outputId": "c1e4c4a1-6e87-411a-9778-cbc59df06e19"
   },
   "outputs": [
    {
     "name": "stdout",
     "output_type": "stream",
     "text": [
      "Drive already mounted at /content/drive; to attempt to forcibly remount, call drive.mount(\"/content/drive\", force_remount=True).\n"
     ]
    }
   ],
   "source": [
    "from google.colab import drive\n",
    "drive.mount('/content/drive')"
   ]
  },
  {
   "cell_type": "code",
   "execution_count": 3,
   "metadata": {
    "ExecuteTime": {
     "end_time": "2021-10-03T10:29:39.446631Z",
     "start_time": "2021-10-03T10:29:39.441798Z"
    },
    "executionInfo": {
     "elapsed": 538,
     "status": "ok",
     "timestamp": 1633252038403,
     "user": {
      "displayName": "이지영",
      "photoUrl": "https://lh3.googleusercontent.com/a-/AOh14Gj2chENaxtL9YdQguKPKFbRgoMTO7ZXePMYvNlMJQ=s64",
      "userId": "07841351895075120936"
     },
     "user_tz": -540
    },
    "id": "DcMFC1eqt0i7"
   },
   "outputs": [],
   "source": [
    "import pandas as pd\n",
    "import numpy as np"
   ]
  },
  {
   "cell_type": "code",
   "execution_count": 4,
   "metadata": {
    "ExecuteTime": {
     "end_time": "2021-10-03T10:29:40.547935Z",
     "start_time": "2021-10-03T10:29:40.544980Z"
    },
    "executionInfo": {
     "elapsed": 2,
     "status": "ok",
     "timestamp": 1633252038403,
     "user": {
      "displayName": "이지영",
      "photoUrl": "https://lh3.googleusercontent.com/a-/AOh14Gj2chENaxtL9YdQguKPKFbRgoMTO7ZXePMYvNlMJQ=s64",
      "userId": "07841351895075120936"
     },
     "user_tz": -540
    },
    "id": "voo98BkgMYOd"
   },
   "outputs": [],
   "source": [
    "# !sudo apt-get install -y fonts-nanum\n",
    "# !sudo fc-cache -fv\n",
    "# !rm ~/.cache/matplotlib -rf"
   ]
  },
  {
   "cell_type": "code",
   "execution_count": 5,
   "metadata": {
    "ExecuteTime": {
     "end_time": "2021-10-03T10:29:42.464798Z",
     "start_time": "2021-10-03T10:29:42.272237Z"
    },
    "colab": {
     "base_uri": "https://localhost:8080/",
     "height": 53
    },
    "executionInfo": {
     "elapsed": 3922,
     "status": "ok",
     "timestamp": 1633252043306,
     "user": {
      "displayName": "이지영",
      "photoUrl": "https://lh3.googleusercontent.com/a-/AOh14Gj2chENaxtL9YdQguKPKFbRgoMTO7ZXePMYvNlMJQ=s64",
      "userId": "07841351895075120936"
     },
     "user_tz": -540
    },
    "id": "xalHH5M2uQLS",
    "outputId": "8f99b8a1-19b6-43b5-af58-0ba602f7f76c"
   },
   "outputs": [
    {
     "ename": "FileNotFoundError",
     "evalue": "[Errno 2] No such file or directory: '/content/drive/MyDrive/Colab Notebooks/Bag_of_Word_Meets_Bags_of_Popcorn/labeledTrainData.tsv'",
     "output_type": "error",
     "traceback": [
      "\u001b[0;31m---------------------------------------------------------------------------\u001b[0m",
      "\u001b[0;31mFileNotFoundError\u001b[0m                         Traceback (most recent call last)",
      "\u001b[0;32m/var/folders/cj/d5ykx0x57v18m72fd5cm6c0r0000gn/T/ipykernel_23603/1928038739.py\u001b[0m in \u001b[0;36m<module>\u001b[0;34m\u001b[0m\n\u001b[0;32m----> 1\u001b[0;31m \u001b[0mtrain\u001b[0m \u001b[0;34m=\u001b[0m \u001b[0mpd\u001b[0m\u001b[0;34m.\u001b[0m\u001b[0mread_csv\u001b[0m\u001b[0;34m(\u001b[0m\u001b[0;34m\"/content/drive/MyDrive/Colab Notebooks/Bag_of_Word_Meets_Bags_of_Popcorn/labeledTrainData.tsv\"\u001b[0m\u001b[0;34m,\u001b[0m \u001b[0mheader\u001b[0m\u001b[0;34m=\u001b[0m\u001b[0;36m0\u001b[0m\u001b[0;34m,\u001b[0m \u001b[0mdelimiter\u001b[0m\u001b[0;34m=\u001b[0m\u001b[0;34m'\\t'\u001b[0m\u001b[0;34m,\u001b[0m\u001b[0mquoting\u001b[0m\u001b[0;34m=\u001b[0m\u001b[0;36m3\u001b[0m\u001b[0;34m)\u001b[0m\u001b[0;34m\u001b[0m\u001b[0m\n\u001b[0m\u001b[1;32m      2\u001b[0m \u001b[0mtest\u001b[0m \u001b[0;34m=\u001b[0m \u001b[0mpd\u001b[0m\u001b[0;34m.\u001b[0m\u001b[0mread_csv\u001b[0m\u001b[0;34m(\u001b[0m\u001b[0;34m\"/content/drive/MyDrive/Colab Notebooks/Bag_of_Word_Meets_Bags_of_Popcorn/testData.tsv\"\u001b[0m\u001b[0;34m,\u001b[0m \u001b[0mheader\u001b[0m\u001b[0;34m=\u001b[0m\u001b[0;36m0\u001b[0m\u001b[0;34m,\u001b[0m \u001b[0mdelimiter\u001b[0m\u001b[0;34m=\u001b[0m\u001b[0;34m'\\t'\u001b[0m\u001b[0;34m,\u001b[0m\u001b[0mquoting\u001b[0m\u001b[0;34m=\u001b[0m\u001b[0;36m3\u001b[0m\u001b[0;34m)\u001b[0m\u001b[0;34m\u001b[0m\u001b[0m\n\u001b[1;32m      3\u001b[0m \u001b[0;34m\u001b[0m\u001b[0m\n\u001b[1;32m      4\u001b[0m \"\"\"\n\u001b[1;32m      5\u001b[0m \u001b[0mheader\u001b[0m \u001b[0;34m=\u001b[0m \u001b[0;36m0\u001b[0m \u001b[0m은\u001b[0m \u001b[0m파일의\u001b[0m \u001b[0m첫번째\u001b[0m \u001b[0m줄에\u001b[0m \u001b[0m열\u001b[0m \u001b[0m일므이\u001b[0m \u001b[0m있음을\u001b[0m \u001b[0m나타냄\u001b[0m\u001b[0;34m\u001b[0m\u001b[0m\n",
      "\u001b[0;32m~/opt/anaconda3/envs/tensor/lib/python3.7/site-packages/pandas/io/parsers.py\u001b[0m in \u001b[0;36mread_csv\u001b[0;34m(filepath_or_buffer, sep, delimiter, header, names, index_col, usecols, squeeze, prefix, mangle_dupe_cols, dtype, engine, converters, true_values, false_values, skipinitialspace, skiprows, skipfooter, nrows, na_values, keep_default_na, na_filter, verbose, skip_blank_lines, parse_dates, infer_datetime_format, keep_date_col, date_parser, dayfirst, cache_dates, iterator, chunksize, compression, thousands, decimal, lineterminator, quotechar, quoting, doublequote, escapechar, comment, encoding, dialect, error_bad_lines, warn_bad_lines, delim_whitespace, low_memory, memory_map, float_precision)\u001b[0m\n\u001b[1;32m    686\u001b[0m     )\n\u001b[1;32m    687\u001b[0m \u001b[0;34m\u001b[0m\u001b[0m\n\u001b[0;32m--> 688\u001b[0;31m     \u001b[0;32mreturn\u001b[0m \u001b[0m_read\u001b[0m\u001b[0;34m(\u001b[0m\u001b[0mfilepath_or_buffer\u001b[0m\u001b[0;34m,\u001b[0m \u001b[0mkwds\u001b[0m\u001b[0;34m)\u001b[0m\u001b[0;34m\u001b[0m\u001b[0m\n\u001b[0m\u001b[1;32m    689\u001b[0m \u001b[0;34m\u001b[0m\u001b[0m\n\u001b[1;32m    690\u001b[0m \u001b[0;34m\u001b[0m\u001b[0m\n",
      "\u001b[0;32m~/opt/anaconda3/envs/tensor/lib/python3.7/site-packages/pandas/io/parsers.py\u001b[0m in \u001b[0;36m_read\u001b[0;34m(filepath_or_buffer, kwds)\u001b[0m\n\u001b[1;32m    452\u001b[0m \u001b[0;34m\u001b[0m\u001b[0m\n\u001b[1;32m    453\u001b[0m     \u001b[0;31m# Create the parser.\u001b[0m\u001b[0;34m\u001b[0m\u001b[0;34m\u001b[0m\u001b[0m\n\u001b[0;32m--> 454\u001b[0;31m     \u001b[0mparser\u001b[0m \u001b[0;34m=\u001b[0m \u001b[0mTextFileReader\u001b[0m\u001b[0;34m(\u001b[0m\u001b[0mfp_or_buf\u001b[0m\u001b[0;34m,\u001b[0m \u001b[0;34m**\u001b[0m\u001b[0mkwds\u001b[0m\u001b[0;34m)\u001b[0m\u001b[0;34m\u001b[0m\u001b[0m\n\u001b[0m\u001b[1;32m    455\u001b[0m \u001b[0;34m\u001b[0m\u001b[0m\n\u001b[1;32m    456\u001b[0m     \u001b[0;32mif\u001b[0m \u001b[0mchunksize\u001b[0m \u001b[0;32mor\u001b[0m \u001b[0miterator\u001b[0m\u001b[0;34m:\u001b[0m\u001b[0;34m\u001b[0m\u001b[0m\n",
      "\u001b[0;32m~/opt/anaconda3/envs/tensor/lib/python3.7/site-packages/pandas/io/parsers.py\u001b[0m in \u001b[0;36m__init__\u001b[0;34m(self, f, engine, **kwds)\u001b[0m\n\u001b[1;32m    946\u001b[0m             \u001b[0mself\u001b[0m\u001b[0;34m.\u001b[0m\u001b[0moptions\u001b[0m\u001b[0;34m[\u001b[0m\u001b[0;34m\"has_index_names\"\u001b[0m\u001b[0;34m]\u001b[0m \u001b[0;34m=\u001b[0m \u001b[0mkwds\u001b[0m\u001b[0;34m[\u001b[0m\u001b[0;34m\"has_index_names\"\u001b[0m\u001b[0;34m]\u001b[0m\u001b[0;34m\u001b[0m\u001b[0m\n\u001b[1;32m    947\u001b[0m \u001b[0;34m\u001b[0m\u001b[0m\n\u001b[0;32m--> 948\u001b[0;31m         \u001b[0mself\u001b[0m\u001b[0;34m.\u001b[0m\u001b[0m_make_engine\u001b[0m\u001b[0;34m(\u001b[0m\u001b[0mself\u001b[0m\u001b[0;34m.\u001b[0m\u001b[0mengine\u001b[0m\u001b[0;34m)\u001b[0m\u001b[0;34m\u001b[0m\u001b[0m\n\u001b[0m\u001b[1;32m    949\u001b[0m \u001b[0;34m\u001b[0m\u001b[0m\n\u001b[1;32m    950\u001b[0m     \u001b[0;32mdef\u001b[0m \u001b[0mclose\u001b[0m\u001b[0;34m(\u001b[0m\u001b[0mself\u001b[0m\u001b[0;34m)\u001b[0m\u001b[0;34m:\u001b[0m\u001b[0;34m\u001b[0m\u001b[0m\n",
      "\u001b[0;32m~/opt/anaconda3/envs/tensor/lib/python3.7/site-packages/pandas/io/parsers.py\u001b[0m in \u001b[0;36m_make_engine\u001b[0;34m(self, engine)\u001b[0m\n\u001b[1;32m   1178\u001b[0m     \u001b[0;32mdef\u001b[0m \u001b[0m_make_engine\u001b[0m\u001b[0;34m(\u001b[0m\u001b[0mself\u001b[0m\u001b[0;34m,\u001b[0m \u001b[0mengine\u001b[0m\u001b[0;34m=\u001b[0m\u001b[0;34m\"c\"\u001b[0m\u001b[0;34m)\u001b[0m\u001b[0;34m:\u001b[0m\u001b[0;34m\u001b[0m\u001b[0m\n\u001b[1;32m   1179\u001b[0m         \u001b[0;32mif\u001b[0m \u001b[0mengine\u001b[0m \u001b[0;34m==\u001b[0m \u001b[0;34m\"c\"\u001b[0m\u001b[0;34m:\u001b[0m\u001b[0;34m\u001b[0m\u001b[0m\n\u001b[0;32m-> 1180\u001b[0;31m             \u001b[0mself\u001b[0m\u001b[0;34m.\u001b[0m\u001b[0m_engine\u001b[0m \u001b[0;34m=\u001b[0m \u001b[0mCParserWrapper\u001b[0m\u001b[0;34m(\u001b[0m\u001b[0mself\u001b[0m\u001b[0;34m.\u001b[0m\u001b[0mf\u001b[0m\u001b[0;34m,\u001b[0m \u001b[0;34m**\u001b[0m\u001b[0mself\u001b[0m\u001b[0;34m.\u001b[0m\u001b[0moptions\u001b[0m\u001b[0;34m)\u001b[0m\u001b[0;34m\u001b[0m\u001b[0m\n\u001b[0m\u001b[1;32m   1181\u001b[0m         \u001b[0;32melse\u001b[0m\u001b[0;34m:\u001b[0m\u001b[0;34m\u001b[0m\u001b[0m\n\u001b[1;32m   1182\u001b[0m             \u001b[0;32mif\u001b[0m \u001b[0mengine\u001b[0m \u001b[0;34m==\u001b[0m \u001b[0;34m\"python\"\u001b[0m\u001b[0;34m:\u001b[0m\u001b[0;34m\u001b[0m\u001b[0m\n",
      "\u001b[0;32m~/opt/anaconda3/envs/tensor/lib/python3.7/site-packages/pandas/io/parsers.py\u001b[0m in \u001b[0;36m__init__\u001b[0;34m(self, src, **kwds)\u001b[0m\n\u001b[1;32m   2008\u001b[0m         \u001b[0mkwds\u001b[0m\u001b[0;34m[\u001b[0m\u001b[0;34m\"usecols\"\u001b[0m\u001b[0;34m]\u001b[0m \u001b[0;34m=\u001b[0m \u001b[0mself\u001b[0m\u001b[0;34m.\u001b[0m\u001b[0musecols\u001b[0m\u001b[0;34m\u001b[0m\u001b[0m\n\u001b[1;32m   2009\u001b[0m \u001b[0;34m\u001b[0m\u001b[0m\n\u001b[0;32m-> 2010\u001b[0;31m         \u001b[0mself\u001b[0m\u001b[0;34m.\u001b[0m\u001b[0m_reader\u001b[0m \u001b[0;34m=\u001b[0m \u001b[0mparsers\u001b[0m\u001b[0;34m.\u001b[0m\u001b[0mTextReader\u001b[0m\u001b[0;34m(\u001b[0m\u001b[0msrc\u001b[0m\u001b[0;34m,\u001b[0m \u001b[0;34m**\u001b[0m\u001b[0mkwds\u001b[0m\u001b[0;34m)\u001b[0m\u001b[0;34m\u001b[0m\u001b[0m\n\u001b[0m\u001b[1;32m   2011\u001b[0m         \u001b[0mself\u001b[0m\u001b[0;34m.\u001b[0m\u001b[0munnamed_cols\u001b[0m \u001b[0;34m=\u001b[0m \u001b[0mself\u001b[0m\u001b[0;34m.\u001b[0m\u001b[0m_reader\u001b[0m\u001b[0;34m.\u001b[0m\u001b[0munnamed_cols\u001b[0m\u001b[0;34m\u001b[0m\u001b[0m\n\u001b[1;32m   2012\u001b[0m \u001b[0;34m\u001b[0m\u001b[0m\n",
      "\u001b[0;32mpandas/_libs/parsers.pyx\u001b[0m in \u001b[0;36mpandas._libs.parsers.TextReader.__cinit__\u001b[0;34m()\u001b[0m\n",
      "\u001b[0;32mpandas/_libs/parsers.pyx\u001b[0m in \u001b[0;36mpandas._libs.parsers.TextReader._setup_parser_source\u001b[0;34m()\u001b[0m\n",
      "\u001b[0;31mFileNotFoundError\u001b[0m: [Errno 2] No such file or directory: '/content/drive/MyDrive/Colab Notebooks/Bag_of_Word_Meets_Bags_of_Popcorn/labeledTrainData.tsv'"
     ]
    }
   ],
   "source": [
    "train = pd.read_csv(\"/content/drive/MyDrive/Colab Notebooks/Bag_of_Word_Meets_Bags_of_Popcorn/labeledTrainData.tsv\", header=0, delimiter='\\t',quoting=3)\n",
    "test = pd.read_csv(\"/content/drive/MyDrive/Colab Notebooks/Bag_of_Word_Meets_Bags_of_Popcorn/testData.tsv\", header=0, delimiter='\\t',quoting=3)\n",
    "\n",
    "\"\"\"\n",
    "header = 0 은 파일의 첫번째 줄에 열 일므이 있음을 나타냄\n",
    "delimiter = '\\t'는 필드가 탭으로 구분되는 것을 의미한다\n",
    "quoting = 3은 쌍 따옴표를 무시한다\n",
    "\"\"\""
   ]
  },
  {
   "cell_type": "code",
   "execution_count": 7,
   "metadata": {
    "ExecuteTime": {
     "end_time": "2021-10-03T10:30:04.211045Z",
     "start_time": "2021-10-03T10:30:03.639769Z"
    }
   },
   "outputs": [],
   "source": [
    "train = pd.read_csv('./Bag_of_Word_Meets_Bags_of_Popcorn/labeledTrainData.tsv', header=0, delimiter= '\\t', quoting=3)\n",
    "test = pd.read_csv('./Bag_of_Word_Meets_Bags_of_Popcorn/testData.tsv', header=0, delimiter= '\\t', quoting=3)"
   ]
  },
  {
   "cell_type": "code",
   "execution_count": 8,
   "metadata": {
    "ExecuteTime": {
     "end_time": "2021-10-03T10:30:05.421205Z",
     "start_time": "2021-10-03T10:30:05.412402Z"
    },
    "colab": {
     "base_uri": "https://localhost:8080/"
    },
    "executionInfo": {
     "elapsed": 19,
     "status": "ok",
     "timestamp": 1633252043307,
     "user": {
      "displayName": "이지영",
      "photoUrl": "https://lh3.googleusercontent.com/a-/AOh14Gj2chENaxtL9YdQguKPKFbRgoMTO7ZXePMYvNlMJQ=s64",
      "userId": "07841351895075120936"
     },
     "user_tz": -540
    },
    "id": "yYUKZ8hMwGaI",
    "outputId": "0a04e565-8e65-4257-99ab-e0c7ed9a6009"
   },
   "outputs": [
    {
     "data": {
      "text/plain": [
       "(25000, 3)"
      ]
     },
     "execution_count": 8,
     "metadata": {},
     "output_type": "execute_result"
    }
   ],
   "source": [
    "train.shape"
   ]
  },
  {
   "cell_type": "code",
   "execution_count": 9,
   "metadata": {
    "ExecuteTime": {
     "end_time": "2021-10-03T10:30:06.243052Z",
     "start_time": "2021-10-03T10:30:06.223851Z"
    },
    "colab": {
     "base_uri": "https://localhost:8080/",
     "height": 206
    },
    "executionInfo": {
     "elapsed": 16,
     "status": "ok",
     "timestamp": 1633252043308,
     "user": {
      "displayName": "이지영",
      "photoUrl": "https://lh3.googleusercontent.com/a-/AOh14Gj2chENaxtL9YdQguKPKFbRgoMTO7ZXePMYvNlMJQ=s64",
      "userId": "07841351895075120936"
     },
     "user_tz": -540
    },
    "id": "qYWPCDwqwRxS",
    "outputId": "a95cb33d-c939-4f2b-c38e-93bfd37431d1"
   },
   "outputs": [
    {
     "data": {
      "text/html": [
       "<div>\n",
       "<style scoped>\n",
       "    .dataframe tbody tr th:only-of-type {\n",
       "        vertical-align: middle;\n",
       "    }\n",
       "\n",
       "    .dataframe tbody tr th {\n",
       "        vertical-align: top;\n",
       "    }\n",
       "\n",
       "    .dataframe thead th {\n",
       "        text-align: right;\n",
       "    }\n",
       "</style>\n",
       "<table border=\"1\" class=\"dataframe\">\n",
       "  <thead>\n",
       "    <tr style=\"text-align: right;\">\n",
       "      <th></th>\n",
       "      <th>id</th>\n",
       "      <th>sentiment</th>\n",
       "      <th>review</th>\n",
       "    </tr>\n",
       "  </thead>\n",
       "  <tbody>\n",
       "    <tr>\n",
       "      <th>0</th>\n",
       "      <td>\"5814_8\"</td>\n",
       "      <td>1</td>\n",
       "      <td>\"With all this stuff going down at the moment ...</td>\n",
       "    </tr>\n",
       "    <tr>\n",
       "      <th>1</th>\n",
       "      <td>\"2381_9\"</td>\n",
       "      <td>1</td>\n",
       "      <td>\"\\\"The Classic War of the Worlds\\\" by Timothy ...</td>\n",
       "    </tr>\n",
       "    <tr>\n",
       "      <th>2</th>\n",
       "      <td>\"7759_3\"</td>\n",
       "      <td>0</td>\n",
       "      <td>\"The film starts with a manager (Nicholas Bell...</td>\n",
       "    </tr>\n",
       "    <tr>\n",
       "      <th>3</th>\n",
       "      <td>\"3630_4\"</td>\n",
       "      <td>0</td>\n",
       "      <td>\"It must be assumed that those who praised thi...</td>\n",
       "    </tr>\n",
       "    <tr>\n",
       "      <th>4</th>\n",
       "      <td>\"9495_8\"</td>\n",
       "      <td>1</td>\n",
       "      <td>\"Superbly trashy and wondrously unpretentious ...</td>\n",
       "    </tr>\n",
       "  </tbody>\n",
       "</table>\n",
       "</div>"
      ],
      "text/plain": [
       "         id  sentiment                                             review\n",
       "0  \"5814_8\"          1  \"With all this stuff going down at the moment ...\n",
       "1  \"2381_9\"          1  \"\\\"The Classic War of the Worlds\\\" by Timothy ...\n",
       "2  \"7759_3\"          0  \"The film starts with a manager (Nicholas Bell...\n",
       "3  \"3630_4\"          0  \"It must be assumed that those who praised thi...\n",
       "4  \"9495_8\"          1  \"Superbly trashy and wondrously unpretentious ..."
      ]
     },
     "execution_count": 9,
     "metadata": {},
     "output_type": "execute_result"
    }
   ],
   "source": [
    "train.head()"
   ]
  },
  {
   "cell_type": "code",
   "execution_count": 10,
   "metadata": {
    "ExecuteTime": {
     "end_time": "2021-10-03T10:30:06.656641Z",
     "start_time": "2021-10-03T10:30:06.646842Z"
    },
    "colab": {
     "base_uri": "https://localhost:8080/",
     "height": 206
    },
    "executionInfo": {
     "elapsed": 16,
     "status": "ok",
     "timestamp": 1633252043309,
     "user": {
      "displayName": "이지영",
      "photoUrl": "https://lh3.googleusercontent.com/a-/AOh14Gj2chENaxtL9YdQguKPKFbRgoMTO7ZXePMYvNlMJQ=s64",
      "userId": "07841351895075120936"
     },
     "user_tz": -540
    },
    "id": "C05l0ki_wTPh",
    "outputId": "7c243a23-762b-44ac-d8f4-7089bcd6a58a"
   },
   "outputs": [
    {
     "data": {
      "text/html": [
       "<div>\n",
       "<style scoped>\n",
       "    .dataframe tbody tr th:only-of-type {\n",
       "        vertical-align: middle;\n",
       "    }\n",
       "\n",
       "    .dataframe tbody tr th {\n",
       "        vertical-align: top;\n",
       "    }\n",
       "\n",
       "    .dataframe thead th {\n",
       "        text-align: right;\n",
       "    }\n",
       "</style>\n",
       "<table border=\"1\" class=\"dataframe\">\n",
       "  <thead>\n",
       "    <tr style=\"text-align: right;\">\n",
       "      <th></th>\n",
       "      <th>id</th>\n",
       "      <th>review</th>\n",
       "    </tr>\n",
       "  </thead>\n",
       "  <tbody>\n",
       "    <tr>\n",
       "      <th>0</th>\n",
       "      <td>\"12311_10\"</td>\n",
       "      <td>\"Naturally in a film who's main themes are of ...</td>\n",
       "    </tr>\n",
       "    <tr>\n",
       "      <th>1</th>\n",
       "      <td>\"8348_2\"</td>\n",
       "      <td>\"This movie is a disaster within a disaster fi...</td>\n",
       "    </tr>\n",
       "    <tr>\n",
       "      <th>2</th>\n",
       "      <td>\"5828_4\"</td>\n",
       "      <td>\"All in all, this is a movie for kids. We saw ...</td>\n",
       "    </tr>\n",
       "    <tr>\n",
       "      <th>3</th>\n",
       "      <td>\"7186_2\"</td>\n",
       "      <td>\"Afraid of the Dark left me with the impressio...</td>\n",
       "    </tr>\n",
       "    <tr>\n",
       "      <th>4</th>\n",
       "      <td>\"12128_7\"</td>\n",
       "      <td>\"A very accurate depiction of small time mob l...</td>\n",
       "    </tr>\n",
       "  </tbody>\n",
       "</table>\n",
       "</div>"
      ],
      "text/plain": [
       "           id                                             review\n",
       "0  \"12311_10\"  \"Naturally in a film who's main themes are of ...\n",
       "1    \"8348_2\"  \"This movie is a disaster within a disaster fi...\n",
       "2    \"5828_4\"  \"All in all, this is a movie for kids. We saw ...\n",
       "3    \"7186_2\"  \"Afraid of the Dark left me with the impressio...\n",
       "4   \"12128_7\"  \"A very accurate depiction of small time mob l..."
      ]
     },
     "execution_count": 10,
     "metadata": {},
     "output_type": "execute_result"
    }
   ],
   "source": [
    "test.head()"
   ]
  },
  {
   "cell_type": "code",
   "execution_count": 11,
   "metadata": {
    "ExecuteTime": {
     "end_time": "2021-10-03T10:30:07.156368Z",
     "start_time": "2021-10-03T10:30:07.153639Z"
    },
    "executionInfo": {
     "elapsed": 16,
     "status": "ok",
     "timestamp": 1633252043310,
     "user": {
      "displayName": "이지영",
      "photoUrl": "https://lh3.googleusercontent.com/a-/AOh14Gj2chENaxtL9YdQguKPKFbRgoMTO7ZXePMYvNlMJQ=s64",
      "userId": "07841351895075120936"
     },
     "user_tz": -540
    },
    "id": "BHCdV2q0wVIa"
   },
   "outputs": [],
   "source": [
    "# sentiment는 긍정과 부정을 나타냄 1은 긍정 0 은 부정"
   ]
  },
  {
   "cell_type": "code",
   "execution_count": 12,
   "metadata": {
    "ExecuteTime": {
     "end_time": "2021-10-03T10:30:07.867456Z",
     "start_time": "2021-10-03T10:30:07.843329Z"
    },
    "executionInfo": {
     "elapsed": 14,
     "status": "ok",
     "timestamp": 1633252043930,
     "user": {
      "displayName": "이지영",
      "photoUrl": "https://lh3.googleusercontent.com/a-/AOh14Gj2chENaxtL9YdQguKPKFbRgoMTO7ZXePMYvNlMJQ=s64",
      "userId": "07841351895075120936"
     },
     "user_tz": -540
    },
    "id": "5CzvX3gpwcqJ"
   },
   "outputs": [
    {
     "ename": "FileNotFoundError",
     "evalue": "[Errno 2] No such file or directory: '/content/drive/MyDrive/Colab Notebooks/Bag_of_Word_Meets_Bags_of_Popcorn/labeledTrainData.tsv'",
     "output_type": "error",
     "traceback": [
      "\u001b[0;31m---------------------------------------------------------------------------\u001b[0m",
      "\u001b[0;31mFileNotFoundError\u001b[0m                         Traceback (most recent call last)",
      "\u001b[0;32m/var/folders/cj/d5ykx0x57v18m72fd5cm6c0r0000gn/T/ipykernel_23603/3714076465.py\u001b[0m in \u001b[0;36m<module>\u001b[0;34m\u001b[0m\n\u001b[0;32m----> 1\u001b[0;31m \u001b[0msample\u001b[0m \u001b[0;34m=\u001b[0m \u001b[0mpd\u001b[0m\u001b[0;34m.\u001b[0m\u001b[0mread_csv\u001b[0m\u001b[0;34m(\u001b[0m\u001b[0;34m'/content/drive/MyDrive/Colab Notebooks/Bag_of_Word_Meets_Bags_of_Popcorn/labeledTrainData.tsv'\u001b[0m\u001b[0;34m,\u001b[0m \u001b[0mheader\u001b[0m\u001b[0;34m=\u001b[0m\u001b[0;36m0\u001b[0m\u001b[0;34m,\u001b[0m \u001b[0mdelimiter\u001b[0m\u001b[0;34m=\u001b[0m\u001b[0;34m'\\t'\u001b[0m\u001b[0;34m)\u001b[0m\u001b[0;34m\u001b[0m\u001b[0m\n\u001b[0m",
      "\u001b[0;32m~/opt/anaconda3/envs/tensor/lib/python3.7/site-packages/pandas/io/parsers.py\u001b[0m in \u001b[0;36mread_csv\u001b[0;34m(filepath_or_buffer, sep, delimiter, header, names, index_col, usecols, squeeze, prefix, mangle_dupe_cols, dtype, engine, converters, true_values, false_values, skipinitialspace, skiprows, skipfooter, nrows, na_values, keep_default_na, na_filter, verbose, skip_blank_lines, parse_dates, infer_datetime_format, keep_date_col, date_parser, dayfirst, cache_dates, iterator, chunksize, compression, thousands, decimal, lineterminator, quotechar, quoting, doublequote, escapechar, comment, encoding, dialect, error_bad_lines, warn_bad_lines, delim_whitespace, low_memory, memory_map, float_precision)\u001b[0m\n\u001b[1;32m    686\u001b[0m     )\n\u001b[1;32m    687\u001b[0m \u001b[0;34m\u001b[0m\u001b[0m\n\u001b[0;32m--> 688\u001b[0;31m     \u001b[0;32mreturn\u001b[0m \u001b[0m_read\u001b[0m\u001b[0;34m(\u001b[0m\u001b[0mfilepath_or_buffer\u001b[0m\u001b[0;34m,\u001b[0m \u001b[0mkwds\u001b[0m\u001b[0;34m)\u001b[0m\u001b[0;34m\u001b[0m\u001b[0m\n\u001b[0m\u001b[1;32m    689\u001b[0m \u001b[0;34m\u001b[0m\u001b[0m\n\u001b[1;32m    690\u001b[0m \u001b[0;34m\u001b[0m\u001b[0m\n",
      "\u001b[0;32m~/opt/anaconda3/envs/tensor/lib/python3.7/site-packages/pandas/io/parsers.py\u001b[0m in \u001b[0;36m_read\u001b[0;34m(filepath_or_buffer, kwds)\u001b[0m\n\u001b[1;32m    452\u001b[0m \u001b[0;34m\u001b[0m\u001b[0m\n\u001b[1;32m    453\u001b[0m     \u001b[0;31m# Create the parser.\u001b[0m\u001b[0;34m\u001b[0m\u001b[0;34m\u001b[0m\u001b[0m\n\u001b[0;32m--> 454\u001b[0;31m     \u001b[0mparser\u001b[0m \u001b[0;34m=\u001b[0m \u001b[0mTextFileReader\u001b[0m\u001b[0;34m(\u001b[0m\u001b[0mfp_or_buf\u001b[0m\u001b[0;34m,\u001b[0m \u001b[0;34m**\u001b[0m\u001b[0mkwds\u001b[0m\u001b[0;34m)\u001b[0m\u001b[0;34m\u001b[0m\u001b[0m\n\u001b[0m\u001b[1;32m    455\u001b[0m \u001b[0;34m\u001b[0m\u001b[0m\n\u001b[1;32m    456\u001b[0m     \u001b[0;32mif\u001b[0m \u001b[0mchunksize\u001b[0m \u001b[0;32mor\u001b[0m \u001b[0miterator\u001b[0m\u001b[0;34m:\u001b[0m\u001b[0;34m\u001b[0m\u001b[0m\n",
      "\u001b[0;32m~/opt/anaconda3/envs/tensor/lib/python3.7/site-packages/pandas/io/parsers.py\u001b[0m in \u001b[0;36m__init__\u001b[0;34m(self, f, engine, **kwds)\u001b[0m\n\u001b[1;32m    946\u001b[0m             \u001b[0mself\u001b[0m\u001b[0;34m.\u001b[0m\u001b[0moptions\u001b[0m\u001b[0;34m[\u001b[0m\u001b[0;34m\"has_index_names\"\u001b[0m\u001b[0;34m]\u001b[0m \u001b[0;34m=\u001b[0m \u001b[0mkwds\u001b[0m\u001b[0;34m[\u001b[0m\u001b[0;34m\"has_index_names\"\u001b[0m\u001b[0;34m]\u001b[0m\u001b[0;34m\u001b[0m\u001b[0m\n\u001b[1;32m    947\u001b[0m \u001b[0;34m\u001b[0m\u001b[0m\n\u001b[0;32m--> 948\u001b[0;31m         \u001b[0mself\u001b[0m\u001b[0;34m.\u001b[0m\u001b[0m_make_engine\u001b[0m\u001b[0;34m(\u001b[0m\u001b[0mself\u001b[0m\u001b[0;34m.\u001b[0m\u001b[0mengine\u001b[0m\u001b[0;34m)\u001b[0m\u001b[0;34m\u001b[0m\u001b[0m\n\u001b[0m\u001b[1;32m    949\u001b[0m \u001b[0;34m\u001b[0m\u001b[0m\n\u001b[1;32m    950\u001b[0m     \u001b[0;32mdef\u001b[0m \u001b[0mclose\u001b[0m\u001b[0;34m(\u001b[0m\u001b[0mself\u001b[0m\u001b[0;34m)\u001b[0m\u001b[0;34m:\u001b[0m\u001b[0;34m\u001b[0m\u001b[0m\n",
      "\u001b[0;32m~/opt/anaconda3/envs/tensor/lib/python3.7/site-packages/pandas/io/parsers.py\u001b[0m in \u001b[0;36m_make_engine\u001b[0;34m(self, engine)\u001b[0m\n\u001b[1;32m   1178\u001b[0m     \u001b[0;32mdef\u001b[0m \u001b[0m_make_engine\u001b[0m\u001b[0;34m(\u001b[0m\u001b[0mself\u001b[0m\u001b[0;34m,\u001b[0m \u001b[0mengine\u001b[0m\u001b[0;34m=\u001b[0m\u001b[0;34m\"c\"\u001b[0m\u001b[0;34m)\u001b[0m\u001b[0;34m:\u001b[0m\u001b[0;34m\u001b[0m\u001b[0m\n\u001b[1;32m   1179\u001b[0m         \u001b[0;32mif\u001b[0m \u001b[0mengine\u001b[0m \u001b[0;34m==\u001b[0m \u001b[0;34m\"c\"\u001b[0m\u001b[0;34m:\u001b[0m\u001b[0;34m\u001b[0m\u001b[0m\n\u001b[0;32m-> 1180\u001b[0;31m             \u001b[0mself\u001b[0m\u001b[0;34m.\u001b[0m\u001b[0m_engine\u001b[0m \u001b[0;34m=\u001b[0m \u001b[0mCParserWrapper\u001b[0m\u001b[0;34m(\u001b[0m\u001b[0mself\u001b[0m\u001b[0;34m.\u001b[0m\u001b[0mf\u001b[0m\u001b[0;34m,\u001b[0m \u001b[0;34m**\u001b[0m\u001b[0mself\u001b[0m\u001b[0;34m.\u001b[0m\u001b[0moptions\u001b[0m\u001b[0;34m)\u001b[0m\u001b[0;34m\u001b[0m\u001b[0m\n\u001b[0m\u001b[1;32m   1181\u001b[0m         \u001b[0;32melse\u001b[0m\u001b[0;34m:\u001b[0m\u001b[0;34m\u001b[0m\u001b[0m\n\u001b[1;32m   1182\u001b[0m             \u001b[0;32mif\u001b[0m \u001b[0mengine\u001b[0m \u001b[0;34m==\u001b[0m \u001b[0;34m\"python\"\u001b[0m\u001b[0;34m:\u001b[0m\u001b[0;34m\u001b[0m\u001b[0m\n",
      "\u001b[0;32m~/opt/anaconda3/envs/tensor/lib/python3.7/site-packages/pandas/io/parsers.py\u001b[0m in \u001b[0;36m__init__\u001b[0;34m(self, src, **kwds)\u001b[0m\n\u001b[1;32m   2008\u001b[0m         \u001b[0mkwds\u001b[0m\u001b[0;34m[\u001b[0m\u001b[0;34m\"usecols\"\u001b[0m\u001b[0;34m]\u001b[0m \u001b[0;34m=\u001b[0m \u001b[0mself\u001b[0m\u001b[0;34m.\u001b[0m\u001b[0musecols\u001b[0m\u001b[0;34m\u001b[0m\u001b[0m\n\u001b[1;32m   2009\u001b[0m \u001b[0;34m\u001b[0m\u001b[0m\n\u001b[0;32m-> 2010\u001b[0;31m         \u001b[0mself\u001b[0m\u001b[0;34m.\u001b[0m\u001b[0m_reader\u001b[0m \u001b[0;34m=\u001b[0m \u001b[0mparsers\u001b[0m\u001b[0;34m.\u001b[0m\u001b[0mTextReader\u001b[0m\u001b[0;34m(\u001b[0m\u001b[0msrc\u001b[0m\u001b[0;34m,\u001b[0m \u001b[0;34m**\u001b[0m\u001b[0mkwds\u001b[0m\u001b[0;34m)\u001b[0m\u001b[0;34m\u001b[0m\u001b[0m\n\u001b[0m\u001b[1;32m   2011\u001b[0m         \u001b[0mself\u001b[0m\u001b[0;34m.\u001b[0m\u001b[0munnamed_cols\u001b[0m \u001b[0;34m=\u001b[0m \u001b[0mself\u001b[0m\u001b[0;34m.\u001b[0m\u001b[0m_reader\u001b[0m\u001b[0;34m.\u001b[0m\u001b[0munnamed_cols\u001b[0m\u001b[0;34m\u001b[0m\u001b[0m\n\u001b[1;32m   2012\u001b[0m \u001b[0;34m\u001b[0m\u001b[0m\n",
      "\u001b[0;32mpandas/_libs/parsers.pyx\u001b[0m in \u001b[0;36mpandas._libs.parsers.TextReader.__cinit__\u001b[0;34m()\u001b[0m\n",
      "\u001b[0;32mpandas/_libs/parsers.pyx\u001b[0m in \u001b[0;36mpandas._libs.parsers.TextReader._setup_parser_source\u001b[0;34m()\u001b[0m\n",
      "\u001b[0;31mFileNotFoundError\u001b[0m: [Errno 2] No such file or directory: '/content/drive/MyDrive/Colab Notebooks/Bag_of_Word_Meets_Bags_of_Popcorn/labeledTrainData.tsv'"
     ]
    }
   ],
   "source": [
    "sample = pd.read_csv('/content/drive/MyDrive/Colab Notebooks/Bag_of_Word_Meets_Bags_of_Popcorn/labeledTrainData.tsv', header=0, delimiter='\\t')"
   ]
  },
  {
   "cell_type": "code",
   "execution_count": 54,
   "metadata": {
    "ExecuteTime": {
     "end_time": "2021-10-03T10:35:49.215453Z",
     "start_time": "2021-10-03T10:35:48.897974Z"
    }
   },
   "outputs": [],
   "source": [
    "sample =  pd.read_csv('./Bag_of_Word_Meets_Bags_of_Popcorn/labeledTrainData.tsv', header=0, delimiter= '\\t')"
   ]
  },
  {
   "cell_type": "code",
   "execution_count": 55,
   "metadata": {
    "ExecuteTime": {
     "end_time": "2021-10-03T10:35:50.188976Z",
     "start_time": "2021-10-03T10:35:50.178149Z"
    },
    "colab": {
     "base_uri": "https://localhost:8080/",
     "height": 206
    },
    "executionInfo": {
     "elapsed": 13,
     "status": "ok",
     "timestamp": 1633252043930,
     "user": {
      "displayName": "이지영",
      "photoUrl": "https://lh3.googleusercontent.com/a-/AOh14Gj2chENaxtL9YdQguKPKFbRgoMTO7ZXePMYvNlMJQ=s64",
      "userId": "07841351895075120936"
     },
     "user_tz": -540
    },
    "id": "I9hkpwGawo6x",
    "outputId": "554b674a-fe89-4296-da8d-5cf0c3a98629",
    "scrolled": true
   },
   "outputs": [
    {
     "data": {
      "text/html": [
       "<div>\n",
       "<style scoped>\n",
       "    .dataframe tbody tr th:only-of-type {\n",
       "        vertical-align: middle;\n",
       "    }\n",
       "\n",
       "    .dataframe tbody tr th {\n",
       "        vertical-align: top;\n",
       "    }\n",
       "\n",
       "    .dataframe thead th {\n",
       "        text-align: right;\n",
       "    }\n",
       "</style>\n",
       "<table border=\"1\" class=\"dataframe\">\n",
       "  <thead>\n",
       "    <tr style=\"text-align: right;\">\n",
       "      <th></th>\n",
       "      <th>id</th>\n",
       "      <th>sentiment</th>\n",
       "      <th>review</th>\n",
       "    </tr>\n",
       "  </thead>\n",
       "  <tbody>\n",
       "    <tr>\n",
       "      <th>0</th>\n",
       "      <td>5814_8</td>\n",
       "      <td>1</td>\n",
       "      <td>With all this stuff going down at the moment w...</td>\n",
       "    </tr>\n",
       "    <tr>\n",
       "      <th>1</th>\n",
       "      <td>2381_9</td>\n",
       "      <td>1</td>\n",
       "      <td>\\The Classic War of the Worlds\\\" by Timothy Hi...</td>\n",
       "    </tr>\n",
       "    <tr>\n",
       "      <th>2</th>\n",
       "      <td>7759_3</td>\n",
       "      <td>0</td>\n",
       "      <td>The film starts with a manager (Nicholas Bell)...</td>\n",
       "    </tr>\n",
       "    <tr>\n",
       "      <th>3</th>\n",
       "      <td>3630_4</td>\n",
       "      <td>0</td>\n",
       "      <td>It must be assumed that those who praised this...</td>\n",
       "    </tr>\n",
       "    <tr>\n",
       "      <th>4</th>\n",
       "      <td>9495_8</td>\n",
       "      <td>1</td>\n",
       "      <td>Superbly trashy and wondrously unpretentious 8...</td>\n",
       "    </tr>\n",
       "  </tbody>\n",
       "</table>\n",
       "</div>"
      ],
      "text/plain": [
       "       id  sentiment                                             review\n",
       "0  5814_8          1  With all this stuff going down at the moment w...\n",
       "1  2381_9          1  \\The Classic War of the Worlds\\\" by Timothy Hi...\n",
       "2  7759_3          0  The film starts with a manager (Nicholas Bell)...\n",
       "3  3630_4          0  It must be assumed that those who praised this...\n",
       "4  9495_8          1  Superbly trashy and wondrously unpretentious 8..."
      ]
     },
     "execution_count": 55,
     "metadata": {},
     "output_type": "execute_result"
    }
   ],
   "source": [
    "sample.head()"
   ]
  },
  {
   "cell_type": "code",
   "execution_count": 13,
   "metadata": {
    "executionInfo": {
     "elapsed": 13,
     "status": "ok",
     "timestamp": 1633252043931,
     "user": {
      "displayName": "이지영",
      "photoUrl": "https://lh3.googleusercontent.com/a-/AOh14Gj2chENaxtL9YdQguKPKFbRgoMTO7ZXePMYvNlMJQ=s64",
      "userId": "07841351895075120936"
     },
     "user_tz": -540
    },
    "id": "7UWVZF9iwqMR"
   },
   "outputs": [],
   "source": [
    "#quoting = 3은 쌍따옴표를 무시한다고 되어있는데 적용을하지 않으면 쌍따옴표를 가지고 오지 않음"
   ]
  },
  {
   "cell_type": "code",
   "execution_count": 13,
   "metadata": {
    "ExecuteTime": {
     "end_time": "2021-10-03T10:30:14.738937Z",
     "start_time": "2021-10-03T10:30:14.733164Z"
    },
    "colab": {
     "base_uri": "https://localhost:8080/"
    },
    "executionInfo": {
     "elapsed": 13,
     "status": "ok",
     "timestamp": 1633252043931,
     "user": {
      "displayName": "이지영",
      "photoUrl": "https://lh3.googleusercontent.com/a-/AOh14Gj2chENaxtL9YdQguKPKFbRgoMTO7ZXePMYvNlMJQ=s64",
      "userId": "07841351895075120936"
     },
     "user_tz": -540
    },
    "id": "ZzU_klHhw0wz",
    "outputId": "972aeb4b-0c24-4b51-ad53-693e40bb8474"
   },
   "outputs": [
    {
     "data": {
      "text/plain": [
       "(25000, 2)"
      ]
     },
     "execution_count": 13,
     "metadata": {},
     "output_type": "execute_result"
    }
   ],
   "source": [
    "test.shape"
   ]
  },
  {
   "cell_type": "code",
   "execution_count": 14,
   "metadata": {
    "ExecuteTime": {
     "end_time": "2021-10-03T10:30:15.408578Z",
     "start_time": "2021-10-03T10:30:15.381730Z"
    },
    "colab": {
     "base_uri": "https://localhost:8080/"
    },
    "executionInfo": {
     "elapsed": 11,
     "status": "ok",
     "timestamp": 1633252043932,
     "user": {
      "displayName": "이지영",
      "photoUrl": "https://lh3.googleusercontent.com/a-/AOh14Gj2chENaxtL9YdQguKPKFbRgoMTO7ZXePMYvNlMJQ=s64",
      "userId": "07841351895075120936"
     },
     "user_tz": -540
    },
    "id": "yT7pQcWKxIA-",
    "outputId": "e77eb2ba-fcb2-4b9b-d7b6-ed216fbe56fc"
   },
   "outputs": [
    {
     "name": "stdout",
     "output_type": "stream",
     "text": [
      "<class 'pandas.core.frame.DataFrame'>\n",
      "RangeIndex: 25000 entries, 0 to 24999\n",
      "Data columns (total 3 columns):\n",
      " #   Column     Non-Null Count  Dtype \n",
      "---  ------     --------------  ----- \n",
      " 0   id         25000 non-null  object\n",
      " 1   sentiment  25000 non-null  int64 \n",
      " 2   review     25000 non-null  object\n",
      "dtypes: int64(1), object(2)\n",
      "memory usage: 586.1+ KB\n"
     ]
    }
   ],
   "source": [
    "train.info()"
   ]
  },
  {
   "cell_type": "code",
   "execution_count": 15,
   "metadata": {
    "ExecuteTime": {
     "end_time": "2021-10-03T10:30:16.018077Z",
     "start_time": "2021-10-03T10:30:15.997187Z"
    },
    "colab": {
     "base_uri": "https://localhost:8080/",
     "height": 300
    },
    "executionInfo": {
     "elapsed": 598,
     "status": "ok",
     "timestamp": 1633252044522,
     "user": {
      "displayName": "이지영",
      "photoUrl": "https://lh3.googleusercontent.com/a-/AOh14Gj2chENaxtL9YdQguKPKFbRgoMTO7ZXePMYvNlMJQ=s64",
      "userId": "07841351895075120936"
     },
     "user_tz": -540
    },
    "id": "0WLOCySixLj4",
    "outputId": "b29f7a6e-67f6-4eaf-df25-adcbc35f26d4"
   },
   "outputs": [
    {
     "data": {
      "text/html": [
       "<div>\n",
       "<style scoped>\n",
       "    .dataframe tbody tr th:only-of-type {\n",
       "        vertical-align: middle;\n",
       "    }\n",
       "\n",
       "    .dataframe tbody tr th {\n",
       "        vertical-align: top;\n",
       "    }\n",
       "\n",
       "    .dataframe thead th {\n",
       "        text-align: right;\n",
       "    }\n",
       "</style>\n",
       "<table border=\"1\" class=\"dataframe\">\n",
       "  <thead>\n",
       "    <tr style=\"text-align: right;\">\n",
       "      <th></th>\n",
       "      <th>sentiment</th>\n",
       "    </tr>\n",
       "  </thead>\n",
       "  <tbody>\n",
       "    <tr>\n",
       "      <th>count</th>\n",
       "      <td>25000.00000</td>\n",
       "    </tr>\n",
       "    <tr>\n",
       "      <th>mean</th>\n",
       "      <td>0.50000</td>\n",
       "    </tr>\n",
       "    <tr>\n",
       "      <th>std</th>\n",
       "      <td>0.50001</td>\n",
       "    </tr>\n",
       "    <tr>\n",
       "      <th>min</th>\n",
       "      <td>0.00000</td>\n",
       "    </tr>\n",
       "    <tr>\n",
       "      <th>25%</th>\n",
       "      <td>0.00000</td>\n",
       "    </tr>\n",
       "    <tr>\n",
       "      <th>50%</th>\n",
       "      <td>0.50000</td>\n",
       "    </tr>\n",
       "    <tr>\n",
       "      <th>75%</th>\n",
       "      <td>1.00000</td>\n",
       "    </tr>\n",
       "    <tr>\n",
       "      <th>max</th>\n",
       "      <td>1.00000</td>\n",
       "    </tr>\n",
       "  </tbody>\n",
       "</table>\n",
       "</div>"
      ],
      "text/plain": [
       "         sentiment\n",
       "count  25000.00000\n",
       "mean       0.50000\n",
       "std        0.50001\n",
       "min        0.00000\n",
       "25%        0.00000\n",
       "50%        0.50000\n",
       "75%        1.00000\n",
       "max        1.00000"
      ]
     },
     "execution_count": 15,
     "metadata": {},
     "output_type": "execute_result"
    }
   ],
   "source": [
    "train.describe()"
   ]
  },
  {
   "cell_type": "code",
   "execution_count": 16,
   "metadata": {
    "ExecuteTime": {
     "end_time": "2021-10-03T10:30:16.577969Z",
     "start_time": "2021-10-03T10:30:16.568926Z"
    },
    "colab": {
     "base_uri": "https://localhost:8080/"
    },
    "executionInfo": {
     "elapsed": 29,
     "status": "ok",
     "timestamp": 1633252044522,
     "user": {
      "displayName": "이지영",
      "photoUrl": "https://lh3.googleusercontent.com/a-/AOh14Gj2chENaxtL9YdQguKPKFbRgoMTO7ZXePMYvNlMJQ=s64",
      "userId": "07841351895075120936"
     },
     "user_tz": -540
    },
    "id": "YG5KL2nNxQSQ",
    "outputId": "68c13b3b-d68b-4404-b3f1-9124595b135d"
   },
   "outputs": [
    {
     "data": {
      "text/plain": [
       "1    12500\n",
       "0    12500\n",
       "Name: sentiment, dtype: int64"
      ]
     },
     "execution_count": 16,
     "metadata": {},
     "output_type": "execute_result"
    }
   ],
   "source": [
    "train['sentiment'].value_counts()"
   ]
  },
  {
   "cell_type": "code",
   "execution_count": 17,
   "metadata": {
    "ExecuteTime": {
     "end_time": "2021-10-03T10:30:17.451442Z",
     "start_time": "2021-10-03T10:30:17.448178Z"
    },
    "executionInfo": {
     "elapsed": 25,
     "status": "ok",
     "timestamp": 1633252044523,
     "user": {
      "displayName": "이지영",
      "photoUrl": "https://lh3.googleusercontent.com/a-/AOh14Gj2chENaxtL9YdQguKPKFbRgoMTO7ZXePMYvNlMJQ=s64",
      "userId": "07841351895075120936"
     },
     "user_tz": -540
    },
    "id": "YnxiPF7yxVmo"
   },
   "outputs": [],
   "source": [
    "#정확히 5:5로 데이터가 나눠져있는것을 확인 할 수 있다."
   ]
  },
  {
   "cell_type": "code",
   "execution_count": 18,
   "metadata": {
    "ExecuteTime": {
     "end_time": "2021-10-03T10:30:18.058683Z",
     "start_time": "2021-10-03T10:30:17.973821Z"
    },
    "colab": {
     "base_uri": "https://localhost:8080/",
     "height": 175
    },
    "executionInfo": {
     "elapsed": 25,
     "status": "ok",
     "timestamp": 1633252044523,
     "user": {
      "displayName": "이지영",
      "photoUrl": "https://lh3.googleusercontent.com/a-/AOh14Gj2chENaxtL9YdQguKPKFbRgoMTO7ZXePMYvNlMJQ=s64",
      "userId": "07841351895075120936"
     },
     "user_tz": -540
    },
    "id": "Uun5dWDCxZSb",
    "outputId": "145e22e9-f3f5-42ed-8405-3cfadd022484"
   },
   "outputs": [
    {
     "data": {
      "text/html": [
       "<div>\n",
       "<style scoped>\n",
       "    .dataframe tbody tr th:only-of-type {\n",
       "        vertical-align: middle;\n",
       "    }\n",
       "\n",
       "    .dataframe tbody tr th {\n",
       "        vertical-align: top;\n",
       "    }\n",
       "\n",
       "    .dataframe thead th {\n",
       "        text-align: right;\n",
       "    }\n",
       "</style>\n",
       "<table border=\"1\" class=\"dataframe\">\n",
       "  <thead>\n",
       "    <tr style=\"text-align: right;\">\n",
       "      <th></th>\n",
       "      <th>id</th>\n",
       "      <th>review</th>\n",
       "    </tr>\n",
       "  </thead>\n",
       "  <tbody>\n",
       "    <tr>\n",
       "      <th>count</th>\n",
       "      <td>25000</td>\n",
       "      <td>25000</td>\n",
       "    </tr>\n",
       "    <tr>\n",
       "      <th>unique</th>\n",
       "      <td>25000</td>\n",
       "      <td>24904</td>\n",
       "    </tr>\n",
       "    <tr>\n",
       "      <th>top</th>\n",
       "      <td>\"204_10\"</td>\n",
       "      <td>\"You do realize that you've been watching the ...</td>\n",
       "    </tr>\n",
       "    <tr>\n",
       "      <th>freq</th>\n",
       "      <td>1</td>\n",
       "      <td>3</td>\n",
       "    </tr>\n",
       "  </tbody>\n",
       "</table>\n",
       "</div>"
      ],
      "text/plain": [
       "              id                                             review\n",
       "count      25000                                              25000\n",
       "unique     25000                                              24904\n",
       "top     \"204_10\"  \"You do realize that you've been watching the ...\n",
       "freq           1                                                  3"
      ]
     },
     "execution_count": 18,
     "metadata": {},
     "output_type": "execute_result"
    }
   ],
   "source": [
    "train.describe(exclude=[np.number])"
   ]
  },
  {
   "cell_type": "code",
   "execution_count": 19,
   "metadata": {
    "ExecuteTime": {
     "end_time": "2021-10-03T10:30:18.684213Z",
     "start_time": "2021-10-03T10:30:18.677011Z"
    },
    "colab": {
     "base_uri": "https://localhost:8080/",
     "height": 192
    },
    "executionInfo": {
     "elapsed": 25,
     "status": "ok",
     "timestamp": 1633252044524,
     "user": {
      "displayName": "이지영",
      "photoUrl": "https://lh3.googleusercontent.com/a-/AOh14Gj2chENaxtL9YdQguKPKFbRgoMTO7ZXePMYvNlMJQ=s64",
      "userId": "07841351895075120936"
     },
     "user_tz": -540
    },
    "id": "tHRxJh77xlRa",
    "outputId": "47d380c5-8f27-4e9c-e6a6-68723b0f4269"
   },
   "outputs": [
    {
     "data": {
      "text/plain": [
       "'\"With all this stuff going down at the moment with MJ i\\'ve started listening to his music, watching the odd documentary here and there, watched The Wiz and watched Moonwalker again. Maybe i just want to get a certain insight into this guy who i thought was really cool in the eighties just to maybe make up my mind whether he is guilty or innocent. Moonwalker is part biography, part feature film which i remember going to see at the cinema when it was originally released. Some of it has subtle messages about MJ\\'s feeling towards the press and also the obvious message of drugs are bad m\\'kay.<br /><br />Visually impressive but of course this is all about Michael Jackson so unless you remotely lik'"
      ]
     },
     "execution_count": 19,
     "metadata": {},
     "output_type": "execute_result"
    }
   ],
   "source": [
    "train['review'][0][:700]"
   ]
  },
  {
   "cell_type": "code",
   "execution_count": 20,
   "metadata": {
    "ExecuteTime": {
     "end_time": "2021-10-03T10:30:19.608550Z",
     "start_time": "2021-10-03T10:30:19.603903Z"
    },
    "executionInfo": {
     "elapsed": 23,
     "status": "ok",
     "timestamp": 1633252044524,
     "user": {
      "displayName": "이지영",
      "photoUrl": "https://lh3.googleusercontent.com/a-/AOh14Gj2chENaxtL9YdQguKPKFbRgoMTO7ZXePMYvNlMJQ=s64",
      "userId": "07841351895075120936"
     },
     "user_tz": -540
    },
    "id": "2ZI7KU1txzWu"
   },
   "outputs": [],
   "source": [
    "from bs4 import BeautifulSoup"
   ]
  },
  {
   "cell_type": "code",
   "execution_count": 21,
   "metadata": {
    "ExecuteTime": {
     "end_time": "2021-10-03T10:30:21.191912Z",
     "start_time": "2021-10-03T10:30:21.181263Z"
    },
    "colab": {
     "base_uri": "https://localhost:8080/",
     "height": 229
    },
    "executionInfo": {
     "elapsed": 24,
     "status": "ok",
     "timestamp": 1633252044525,
     "user": {
      "displayName": "이지영",
      "photoUrl": "https://lh3.googleusercontent.com/a-/AOh14Gj2chENaxtL9YdQguKPKFbRgoMTO7ZXePMYvNlMJQ=s64",
      "userId": "07841351895075120936"
     },
     "user_tz": -540
    },
    "id": "tBB0CvW5x9DZ",
    "outputId": "4a65c47b-7375-4f42-f4af-62d6414c30ae"
   },
   "outputs": [
    {
     "name": "stdout",
     "output_type": "stream",
     "text": [
      "\"With all this stuff going down at the moment with MJ i've started listening to his music, watching the odd documentary here and there, watched The Wiz and watched Moonwalker again. Maybe i just want to get a certain insight into this guy who i thought was really cool in the eighties just to maybe make up my mind whether he is guilty or innocent. Moonwalker is part biography, part feature film which i remember going to see at the cinema when it was originally released. Some of it has subtle messages about MJ's feeling towards the press and also the obvious message of drugs are bad m'kay.<br /><br />Visually impressive but of course this is all about Michael Jackson so unless you remotely lik\n"
     ]
    },
    {
     "data": {
      "text/plain": [
       "'\"With all this stuff going down at the moment with MJ i\\'ve started listening to his music, watching the odd documentary here and there, watched The Wiz and watched Moonwalker again. Maybe i just want to get a certain insight into this guy who i thought was really cool in the eighties just to maybe make up my mind whether he is guilty or innocent. Moonwalker is part biography, part feature film which i remember going to see at the cinema when it was originally released. Some of it has subtle messages about MJ\\'s feeling towards the press and also the obvious message of drugs are bad m\\'kay.Visually impressive but of course this is all about Michael Jackson so unless you remotely like MJ in anyw'"
      ]
     },
     "execution_count": 21,
     "metadata": {},
     "output_type": "execute_result"
    }
   ],
   "source": [
    "examplel = BeautifulSoup(train['review'][0], \"html5lib\")\n",
    "print(train['review'][0][:700])\n",
    "examplel.get_text()[:700]"
   ]
  },
  {
   "cell_type": "code",
   "execution_count": 22,
   "metadata": {
    "ExecuteTime": {
     "end_time": "2021-10-03T10:30:27.558291Z",
     "start_time": "2021-10-03T10:30:27.551085Z"
    },
    "colab": {
     "base_uri": "https://localhost:8080/",
     "height": 261
    },
    "executionInfo": {
     "elapsed": 20,
     "status": "ok",
     "timestamp": 1633252044525,
     "user": {
      "displayName": "이지영",
      "photoUrl": "https://lh3.googleusercontent.com/a-/AOh14Gj2chENaxtL9YdQguKPKFbRgoMTO7ZXePMYvNlMJQ=s64",
      "userId": "07841351895075120936"
     },
     "user_tz": -540
    },
    "id": "4tklwx5vyS1n",
    "outputId": "8250c902-10c2-49bd-ba90-23c0cccc1b54"
   },
   "outputs": [
    {
     "data": {
      "text/plain": [
       "' With all this stuff going down at the moment with MJ i ve started listening to his music  watching the odd documentary here and there  watched The Wiz and watched Moonwalker again  Maybe i just want to get a certain insight into this guy who i thought was really cool in the eighties just to maybe make up my mind whether he is guilty or innocent  Moonwalker is part biography  part feature film which i remember going to see at the cinema when it was originally released  Some of it has subtle messages about MJ s feeling towards the press and also the obvious message of drugs are bad m kay Visually impressive but of course this is all about Michael Jackson so unless you remotely like MJ in anyway then you are going to hate this and find it boring  Some may call MJ an egotist for consenting to the making of this movie BUT MJ and most of his fans would say that he made it for the fans which if true is really nice of him The actual feature film bit when it finally starts is only on for    minutes or so excluding the Smooth Criminal sequence and Joe Pesci is convincing as a psychopathic all powerful drug lord  Why he wants MJ dead so bad is beyond me  Because MJ overheard his plans  Nah  Joe Pesci s character ranted that he wanted people to know it is he who is supplying drugs etc so i dunno  maybe he just hates MJ s music Lots of cool things in this like MJ turning into a car and a robot and the whole Speed Demon sequence  Also  the director must have had the patience of a saint when it came to filming the kiddy Bad sequence as usually directors hate working with one kid let alone a whole bunch of them performing a complex dance scene Bottom line  this movie is for people who like MJ on one level or another  which i think is most people   If not  then stay away  It does try and give off a wholesome message and ironically MJ s bestest buddy in this movie is a girl  Michael Jackson is truly one of the most talented people ever to grace this planet but is he guilty  Well  with all the attention i ve gave this subject    hmmm well i don t know because people can be different behind closed doors  i know this for a fact  He is either an extremely nice but stupid guy or one of the most sickest liars  I hope he is not the latter  '"
      ]
     },
     "execution_count": 22,
     "metadata": {},
     "output_type": "execute_result"
    }
   ],
   "source": [
    "import re\n",
    "\n",
    "#소문자와 대문자가 아닌 것은 공백으로 대체한다.\n",
    "#[^ 문자];를 제외하라는 정규표현식 ^은 not 의미\n",
    "\n",
    "letters_only = re.sub('[^a-zA-Z]',' ', examplel.get_text())\n",
    "letters_only"
   ]
  },
  {
   "cell_type": "code",
   "execution_count": 23,
   "metadata": {
    "ExecuteTime": {
     "end_time": "2021-10-03T10:30:28.639064Z",
     "start_time": "2021-10-03T10:30:28.631781Z"
    },
    "colab": {
     "base_uri": "https://localhost:8080/"
    },
    "executionInfo": {
     "elapsed": 20,
     "status": "ok",
     "timestamp": 1633252044526,
     "user": {
      "displayName": "이지영",
      "photoUrl": "https://lh3.googleusercontent.com/a-/AOh14Gj2chENaxtL9YdQguKPKFbRgoMTO7ZXePMYvNlMJQ=s64",
      "userId": "07841351895075120936"
     },
     "user_tz": -540
    },
    "id": "sH7FaIhSy3EO",
    "outputId": "3e96bc97-e6d7-47ec-e201-11fdd55b73d4"
   },
   "outputs": [
    {
     "name": "stdout",
     "output_type": "stream",
     "text": [
      "437\n"
     ]
    },
    {
     "data": {
      "text/plain": [
       "['with',\n",
       " 'all',\n",
       " 'this',\n",
       " 'stuff',\n",
       " 'going',\n",
       " 'down',\n",
       " 'at',\n",
       " 'the',\n",
       " 'moment',\n",
       " 'with']"
      ]
     },
     "execution_count": 23,
     "metadata": {},
     "output_type": "execute_result"
    }
   ],
   "source": [
    "lower_case = letters_only.lower()\n",
    "\n",
    "words = lower_case.split()\n",
    "print(len(words))\n",
    "words[:10]"
   ]
  },
  {
   "cell_type": "code",
   "execution_count": 24,
   "metadata": {
    "ExecuteTime": {
     "end_time": "2021-10-03T10:30:29.527258Z",
     "start_time": "2021-10-03T10:30:29.524283Z"
    },
    "executionInfo": {
     "elapsed": 17,
     "status": "ok",
     "timestamp": 1633252044526,
     "user": {
      "displayName": "이지영",
      "photoUrl": "https://lh3.googleusercontent.com/a-/AOh14Gj2chENaxtL9YdQguKPKFbRgoMTO7ZXePMYvNlMJQ=s64",
      "userId": "07841351895075120936"
     },
     "user_tz": -540
    },
    "id": "Axt2UmekzXkB"
   },
   "outputs": [],
   "source": [
    "#lower을 이용해 모두 소문자로 바꿔줌, with, all, this 와 같은 대명사나 전치사는 어떠한 정보를 갖고 있다고 보기 힘듬 그러니 정리해준다."
   ]
  },
  {
   "cell_type": "code",
   "execution_count": 25,
   "metadata": {
    "ExecuteTime": {
     "end_time": "2021-10-03T10:30:37.393353Z",
     "start_time": "2021-10-03T10:30:30.451719Z"
    },
    "colab": {
     "base_uri": "https://localhost:8080/"
    },
    "executionInfo": {
     "elapsed": 1193,
     "status": "ok",
     "timestamp": 1633252045702,
     "user": {
      "displayName": "이지영",
      "photoUrl": "https://lh3.googleusercontent.com/a-/AOh14Gj2chENaxtL9YdQguKPKFbRgoMTO7ZXePMYvNlMJQ=s64",
      "userId": "07841351895075120936"
     },
     "user_tz": -540
    },
    "id": "fALqqxBNzxgH",
    "outputId": "30bcbdbe-8f45-43b9-beb5-96f601d17c23"
   },
   "outputs": [
    {
     "name": "stderr",
     "output_type": "stream",
     "text": [
      "[nltk_data] Downloading package stopwords to\n",
      "[nltk_data]     /Users/ijiyeong/nltk_data...\n",
      "[nltk_data]   Package stopwords is already up-to-date!\n"
     ]
    },
    {
     "data": {
      "text/plain": [
       "['i', 'me', 'my', 'myself', 'we', 'our', 'ours', 'ourselves', 'you', \"you're\"]"
      ]
     },
     "execution_count": 25,
     "metadata": {},
     "output_type": "execute_result"
    }
   ],
   "source": [
    "import nltk\n",
    "nltk.download('stopwords')\n",
    "from nltk.corpus import stopwords\n",
    "stopwords.words('english')[:10]"
   ]
  },
  {
   "cell_type": "code",
   "execution_count": 26,
   "metadata": {
    "ExecuteTime": {
     "end_time": "2021-10-03T10:30:38.986028Z",
     "start_time": "2021-10-03T10:30:38.914325Z"
    },
    "colab": {
     "base_uri": "https://localhost:8080/"
    },
    "executionInfo": {
     "elapsed": 26,
     "status": "ok",
     "timestamp": 1633252045702,
     "user": {
      "displayName": "이지영",
      "photoUrl": "https://lh3.googleusercontent.com/a-/AOh14Gj2chENaxtL9YdQguKPKFbRgoMTO7ZXePMYvNlMJQ=s64",
      "userId": "07841351895075120936"
     },
     "user_tz": -540
    },
    "id": "UDSEr7kI26qP",
    "outputId": "d48a1cd0-e556-439a-952e-9b3b23a9b570"
   },
   "outputs": [
    {
     "name": "stdout",
     "output_type": "stream",
     "text": [
      "219\n"
     ]
    },
    {
     "data": {
      "text/plain": [
       "['stuff',\n",
       " 'going',\n",
       " 'moment',\n",
       " 'mj',\n",
       " 'started',\n",
       " 'listening',\n",
       " 'music',\n",
       " 'watching',\n",
       " 'odd',\n",
       " 'documentary']"
      ]
     },
     "execution_count": 26,
     "metadata": {},
     "output_type": "execute_result"
    }
   ],
   "source": [
    "#불용어 제거\n",
    "\n",
    "words = [w for w in words if not w in stopwords.words('english')]\n",
    "print(len(words))\n",
    "words[:10]"
   ]
  },
  {
   "cell_type": "code",
   "execution_count": 27,
   "metadata": {
    "ExecuteTime": {
     "end_time": "2021-10-03T10:30:39.656350Z",
     "start_time": "2021-10-03T10:30:39.650746Z"
    },
    "colab": {
     "base_uri": "https://localhost:8080/"
    },
    "executionInfo": {
     "elapsed": 23,
     "status": "ok",
     "timestamp": 1633252045703,
     "user": {
      "displayName": "이지영",
      "photoUrl": "https://lh3.googleusercontent.com/a-/AOh14Gj2chENaxtL9YdQguKPKFbRgoMTO7ZXePMYvNlMJQ=s64",
      "userId": "07841351895075120936"
     },
     "user_tz": -540
    },
    "id": "TW2_fA_b37dH",
    "outputId": "9ed5f504-21c3-4478-beb1-8f728c6f6d8c"
   },
   "outputs": [
    {
     "name": "stdout",
     "output_type": "stream",
     "text": [
      "maximum\n",
      "The stemmed form of running is: run\n",
      "The stemmed form of runs is: run\n",
      "The stemmed form of run is: run\n"
     ]
    }
   ],
   "source": [
    "#포터 스테머\n",
    "stemmer = nltk.stem.PorterStemmer()\n",
    "\n",
    "print(stemmer.stem('maximum'))\n",
    "print(\"The stemmed form of running is: {}\".format(stemmer.stem(\"running\")))\n",
    "print(\"The stemmed form of runs is: {}\".format(stemmer.stem(\"runs\")))\n",
    "print(\"The stemmed form of run is: {}\".format(stemmer.stem(\"run\")))"
   ]
  },
  {
   "cell_type": "code",
   "execution_count": 28,
   "metadata": {
    "ExecuteTime": {
     "end_time": "2021-10-03T10:30:40.220491Z",
     "start_time": "2021-10-03T10:30:40.213036Z"
    },
    "colab": {
     "base_uri": "https://localhost:8080/"
    },
    "executionInfo": {
     "elapsed": 20,
     "status": "ok",
     "timestamp": 1633252045703,
     "user": {
      "displayName": "이지영",
      "photoUrl": "https://lh3.googleusercontent.com/a-/AOh14Gj2chENaxtL9YdQguKPKFbRgoMTO7ZXePMYvNlMJQ=s64",
      "userId": "07841351895075120936"
     },
     "user_tz": -540
    },
    "id": "b5H3iShu4m5j",
    "outputId": "4b50b25d-13c6-470d-d7f2-3a73cb556e54"
   },
   "outputs": [
    {
     "name": "stdout",
     "output_type": "stream",
     "text": [
      "maximun\n",
      "The stemmed form of running is: run\n",
      "The stemmed form of runs is: run\n",
      "The stemmed form of run is: run\n"
     ]
    }
   ],
   "source": [
    "#랭커스터 스태머의 사용예\n",
    "\n",
    "from nltk.stem.lancaster import LancasterStemmer\n",
    "lancaster_stemmer = LancasterStemmer()\n",
    "print(lancaster_stemmer.stem('maximun'))\n",
    "print(\"The stemmed form of running is: {}\". format(lancaster_stemmer.stem(\"running\")))\n",
    "print(\"The stemmed form of runs is: {}\". format(lancaster_stemmer.stem(\"runs\")))\n",
    "print(\"The stemmed form of run is: {}\". format(lancaster_stemmer.stem(\"run\")))"
   ]
  },
  {
   "cell_type": "code",
   "execution_count": 29,
   "metadata": {
    "ExecuteTime": {
     "end_time": "2021-10-03T10:30:41.001374Z",
     "start_time": "2021-10-03T10:30:40.995496Z"
    },
    "colab": {
     "base_uri": "https://localhost:8080/"
    },
    "executionInfo": {
     "elapsed": 18,
     "status": "ok",
     "timestamp": 1633252045704,
     "user": {
      "displayName": "이지영",
      "photoUrl": "https://lh3.googleusercontent.com/a-/AOh14Gj2chENaxtL9YdQguKPKFbRgoMTO7ZXePMYvNlMJQ=s64",
      "userId": "07841351895075120936"
     },
     "user_tz": -540
    },
    "id": "Q_7--Si05MSD",
    "outputId": "eb700886-d1c8-4cc5-a373-bed819d60a92"
   },
   "outputs": [
    {
     "data": {
      "text/plain": [
       "['stuff',\n",
       " 'going',\n",
       " 'moment',\n",
       " 'mj',\n",
       " 'started',\n",
       " 'listening',\n",
       " 'music',\n",
       " 'watching',\n",
       " 'odd',\n",
       " 'documentary']"
      ]
     },
     "execution_count": 29,
     "metadata": {},
     "output_type": "execute_result"
    }
   ],
   "source": [
    "#처리 전 단어\n",
    "words[:10]"
   ]
  },
  {
   "cell_type": "code",
   "execution_count": 30,
   "metadata": {
    "ExecuteTime": {
     "end_time": "2021-10-03T10:30:41.604919Z",
     "start_time": "2021-10-03T10:30:41.593474Z"
    },
    "colab": {
     "base_uri": "https://localhost:8080/"
    },
    "executionInfo": {
     "elapsed": 19,
     "status": "ok",
     "timestamp": 1633252045708,
     "user": {
      "displayName": "이지영",
      "photoUrl": "https://lh3.googleusercontent.com/a-/AOh14Gj2chENaxtL9YdQguKPKFbRgoMTO7ZXePMYvNlMJQ=s64",
      "userId": "07841351895075120936"
     },
     "user_tz": -540
    },
    "id": "UrqRa3tn5uGd",
    "outputId": "dd5366fa-759a-4dbe-8d90-5e2decb64989"
   },
   "outputs": [
    {
     "data": {
      "text/plain": [
       "['stuff',\n",
       " 'go',\n",
       " 'moment',\n",
       " 'mj',\n",
       " 'start',\n",
       " 'listen',\n",
       " 'music',\n",
       " 'watch',\n",
       " 'odd',\n",
       " 'documentari']"
      ]
     },
     "execution_count": 30,
     "metadata": {},
     "output_type": "execute_result"
    }
   ],
   "source": [
    "from nltk.stem.snowball import SnowballStemmer\n",
    "\n",
    "stemmer = SnowballStemmer('english') #snowballstemmer는 어떤 언어를 할 지 첫번쨰 인자에서 정해야함\n",
    "words = [stemmer.stem(w) for w in words]\n",
    "words[:10]"
   ]
  },
  {
   "cell_type": "code",
   "execution_count": 31,
   "metadata": {
    "ExecuteTime": {
     "end_time": "2021-10-03T10:30:42.252552Z",
     "start_time": "2021-10-03T10:30:42.244936Z"
    },
    "executionInfo": {
     "elapsed": 16,
     "status": "ok",
     "timestamp": 1633252045708,
     "user": {
      "displayName": "이지영",
      "photoUrl": "https://lh3.googleusercontent.com/a-/AOh14Gj2chENaxtL9YdQguKPKFbRgoMTO7ZXePMYvNlMJQ=s64",
      "userId": "07841351895075120936"
     },
     "user_tz": -540
    },
    "id": "OvpanWRj6QZ7"
   },
   "outputs": [],
   "source": [
    "def review_to_words(raw_review):\n",
    "  #1. html remove\n",
    "  review_text = BeautifulSoup(raw_review, 'html.parser').get_text()\n",
    "  #2. blank exchange\n",
    "  letters_only = re.sub('[^a-zA-Z]',' ', review_text)\n",
    "  #3. lower exchange\n",
    "  words = letters_only.lower().split()\n",
    "  #4. 파이썬에서는 리스트보다 세트로 찾는게 훨씬 빠르다.\n",
    "  #stopwords를 세트로 형변환 한다\n",
    "  stops = set(stopwords.words('english'))\n",
    "  #5. Stopwords를 이용해 불용어 제거\n",
    "  meaningful_words = [w for w in words if not w in stops]\n",
    "  #6. 어간추출\n",
    "  stemming_words = [stemmer.stem(w) for w in meaningful_words]\n",
    "  #7. 공백으로 구분된 문자열로 결합하여 결과를 변환\n",
    "  return(\" \".join(stemming_words))\n",
    "\n"
   ]
  },
  {
   "cell_type": "code",
   "execution_count": 32,
   "metadata": {
    "ExecuteTime": {
     "end_time": "2021-10-03T10:30:44.623966Z",
     "start_time": "2021-10-03T10:30:44.612307Z"
    },
    "colab": {
     "base_uri": "https://localhost:8080/",
     "height": 261
    },
    "executionInfo": {
     "elapsed": 17,
     "status": "ok",
     "timestamp": 1633252045709,
     "user": {
      "displayName": "이지영",
      "photoUrl": "https://lh3.googleusercontent.com/a-/AOh14Gj2chENaxtL9YdQguKPKFbRgoMTO7ZXePMYvNlMJQ=s64",
      "userId": "07841351895075120936"
     },
     "user_tz": -540
    },
    "id": "a_DTVX1T8DY7",
    "outputId": "f8c866f1-6c8b-4e3e-c147-8377150c4ed6"
   },
   "outputs": [
    {
     "data": {
      "text/plain": [
       "'stuff go moment mj start listen music watch odd documentari watch wiz watch moonwalk mayb want get certain insight guy thought realli cool eighti mayb make mind whether guilti innoc moonwalk part biographi part featur film rememb go see cinema origin releas subtl messag mj feel toward press also obvious messag drug bad kay visual impress cours michael jackson unless remot like mj anyway go hate find bore may call mj egotist consent make movi mj fan would say made fan true realli nice actual featur film bit final start minut exclud smooth crimin sequenc joe pesci convinc psychopath power drug lord want mj dead bad beyond mj overheard plan nah joe pesci charact rant want peopl know suppli drug etc dunno mayb hate mj music lot cool thing like mj turn car robot whole speed demon sequenc also director must patienc saint came film kiddi bad sequenc usual director hate work one kid let alon whole bunch perform complex danc scene bottom line movi peopl like mj one level anoth think peopl stay away tri give wholesom messag iron mj bestest buddi movi girl michael jackson truli one talent peopl ever grace planet guilti well attent gave subject hmmm well know peopl differ behind close door know fact either extrem nice stupid guy one sickest liar hope latter'"
      ]
     },
     "execution_count": 32,
     "metadata": {},
     "output_type": "execute_result"
    }
   ],
   "source": [
    "clean_review = review_to_words(train['review'][0])\n",
    "clean_review"
   ]
  },
  {
   "cell_type": "code",
   "execution_count": 33,
   "metadata": {
    "ExecuteTime": {
     "end_time": "2021-10-03T10:30:45.470326Z",
     "start_time": "2021-10-03T10:30:45.464651Z"
    },
    "colab": {
     "base_uri": "https://localhost:8080/"
    },
    "executionInfo": {
     "elapsed": 16,
     "status": "ok",
     "timestamp": 1633252045709,
     "user": {
      "displayName": "이지영",
      "photoUrl": "https://lh3.googleusercontent.com/a-/AOh14Gj2chENaxtL9YdQguKPKFbRgoMTO7ZXePMYvNlMJQ=s64",
      "userId": "07841351895075120936"
     },
     "user_tz": -540
    },
    "id": "lS6i2RPJ8Np3",
    "outputId": "15523ee7-e584-4ff8-bb9b-9f0ab430ecc4"
   },
   "outputs": [
    {
     "data": {
      "text/plain": [
       "25000"
      ]
     },
     "execution_count": 33,
     "metadata": {},
     "output_type": "execute_result"
    }
   ],
   "source": [
    "num_reviews = train['review'].size\n",
    "num_reviews"
   ]
  },
  {
   "cell_type": "code",
   "execution_count": 34,
   "metadata": {
    "ExecuteTime": {
     "end_time": "2021-10-03T10:31:43.936196Z",
     "start_time": "2021-10-03T10:30:46.404388Z"
    },
    "colab": {
     "base_uri": "https://localhost:8080/"
    },
    "executionInfo": {
     "elapsed": 63812,
     "status": "ok",
     "timestamp": 1633252109509,
     "user": {
      "displayName": "이지영",
      "photoUrl": "https://lh3.googleusercontent.com/a-/AOh14Gj2chENaxtL9YdQguKPKFbRgoMTO7ZXePMYvNlMJQ=s64",
      "userId": "07841351895075120936"
     },
     "user_tz": -540
    },
    "id": "TtWQeduG9jqi",
    "outputId": "755203f5-789b-4fce-81bf-2fc922f3c141"
   },
   "outputs": [
    {
     "name": "stdout",
     "output_type": "stream",
     "text": [
      "Review 5000 of 25000\n",
      "Review 10000 of 25000\n",
      "Review 15000 of 25000\n",
      "Review 20000 of 25000\n",
      "Review 25000 of 25000\n"
     ]
    }
   ],
   "source": [
    "clean_train_reviews = []\n",
    "for i in range(0, num_reviews):\n",
    "  if (i+1) % 5000 == 0:\n",
    "    print('Review {} of {}'.format(i+1, num_reviews))\n",
    "  clean_train_reviews.append(review_to_words(train['review'][i]))"
   ]
  },
  {
   "cell_type": "code",
   "execution_count": 35,
   "metadata": {
    "ExecuteTime": {
     "end_time": "2021-10-03T10:32:41.408984Z",
     "start_time": "2021-10-03T10:31:43.939707Z"
    },
    "colab": {
     "base_uri": "https://localhost:8080/"
    },
    "executionInfo": {
     "elapsed": 62802,
     "status": "ok",
     "timestamp": 1633252172289,
     "user": {
      "displayName": "이지영",
      "photoUrl": "https://lh3.googleusercontent.com/a-/AOh14Gj2chENaxtL9YdQguKPKFbRgoMTO7ZXePMYvNlMJQ=s64",
      "userId": "07841351895075120936"
     },
     "user_tz": -540
    },
    "id": "eDxw-wdl9-sS",
    "outputId": "c601304e-92f5-49ea-9371-d708521a7328"
   },
   "outputs": [
    {
     "name": "stdout",
     "output_type": "stream",
     "text": [
      "CPU times: user 54.4 s, sys: 2.09 s, total: 56.5 s\n",
      "Wall time: 57.5 s\n"
     ]
    }
   ],
   "source": [
    "%time train['review_clean'] = train['review'].apply(review_to_words)"
   ]
  },
  {
   "cell_type": "code",
   "execution_count": 38,
   "metadata": {
    "ExecuteTime": {
     "end_time": "2021-10-03T10:33:01.281170Z",
     "start_time": "2021-10-03T10:33:01.218498Z"
    },
    "executionInfo": {
     "elapsed": 25,
     "status": "ok",
     "timestamp": 1633252172290,
     "user": {
      "displayName": "이지영",
      "photoUrl": "https://lh3.googleusercontent.com/a-/AOh14Gj2chENaxtL9YdQguKPKFbRgoMTO7ZXePMYvNlMJQ=s64",
      "userId": "07841351895075120936"
     },
     "user_tz": -540
    },
    "id": "qP755VnO-SAj"
   },
   "outputs": [],
   "source": [
    "from multiprocess import Pool\n",
    "import numpy as np"
   ]
  },
  {
   "cell_type": "code",
   "execution_count": 39,
   "metadata": {
    "ExecuteTime": {
     "end_time": "2021-10-03T10:33:06.480482Z",
     "start_time": "2021-10-03T10:33:06.473426Z"
    },
    "executionInfo": {
     "elapsed": 23,
     "status": "ok",
     "timestamp": 1633252172290,
     "user": {
      "displayName": "이지영",
      "photoUrl": "https://lh3.googleusercontent.com/a-/AOh14Gj2chENaxtL9YdQguKPKFbRgoMTO7ZXePMYvNlMJQ=s64",
      "userId": "07841351895075120936"
     },
     "user_tz": -540
    },
    "id": "kkedPWPrFeZY"
   },
   "outputs": [],
   "source": [
    "def _apply_df(args):\n",
    "  df, func, kwargs = args\n",
    "  return df.apply(func, **kwargs)\n",
    "\n",
    "def apply_by_multiprocessing(df, func, **kwargs):\n",
    "  workers = kwargs.pop('workers')\n",
    "  pool = Pool(processes=workers)\n",
    "  result = pool.map(_apply_df, [(d, func, kwargs) for d in np.array_split(df, workers)])\n",
    "  pool.close()\n",
    "\n",
    "  return pd.concat(list(result))"
   ]
  },
  {
   "cell_type": "code",
   "execution_count": 64,
   "metadata": {
    "ExecuteTime": {
     "end_time": "2021-10-03T10:43:52.262680Z",
     "start_time": "2021-10-03T10:43:35.267472Z"
    },
    "colab": {
     "base_uri": "https://localhost:8080/"
    },
    "executionInfo": {
     "elapsed": 62519,
     "status": "ok",
     "timestamp": 1633252234788,
     "user": {
      "displayName": "이지영",
      "photoUrl": "https://lh3.googleusercontent.com/a-/AOh14Gj2chENaxtL9YdQguKPKFbRgoMTO7ZXePMYvNlMJQ=s64",
      "userId": "07841351895075120936"
     },
     "user_tz": -540
    },
    "id": "RCtbL4CDHo6y",
    "outputId": "c2aac7a8-6517-4c45-8620-2565baaa0650"
   },
   "outputs": [
    {
     "name": "stdout",
     "output_type": "stream",
     "text": [
      "CPU times: user 4 µs, sys: 1 µs, total: 5 µs\n",
      "Wall time: 8.11 µs\n"
     ]
    }
   ],
   "source": [
    "%time\n",
    "\n",
    "clean_train_reviews = apply_by_multiprocessing(train['review'], review_to_words, workers=4)"
   ]
  },
  {
   "cell_type": "code",
   "execution_count": 65,
   "metadata": {
    "ExecuteTime": {
     "end_time": "2021-10-03T10:44:09.361707Z",
     "start_time": "2021-10-03T10:43:52.266744Z"
    },
    "colab": {
     "base_uri": "https://localhost:8080/"
    },
    "executionInfo": {
     "elapsed": 60773,
     "status": "ok",
     "timestamp": 1633252295543,
     "user": {
      "displayName": "이지영",
      "photoUrl": "https://lh3.googleusercontent.com/a-/AOh14Gj2chENaxtL9YdQguKPKFbRgoMTO7ZXePMYvNlMJQ=s64",
      "userId": "07841351895075120936"
     },
     "user_tz": -540
    },
    "id": "ZOrIrYozH2Q1",
    "outputId": "f9a4a55b-3e80-45ed-d7fd-ce0321348fb2"
   },
   "outputs": [
    {
     "name": "stdout",
     "output_type": "stream",
     "text": [
      "CPU times: user 3 µs, sys: 1e+03 ns, total: 4 µs\n",
      "Wall time: 5.96 µs\n"
     ]
    }
   ],
   "source": [
    "%time\n",
    "\n",
    "clean_test_reviews = apply_by_multiprocessing(test['review'], review_to_words, workers=4)"
   ]
  },
  {
   "cell_type": "code",
   "execution_count": 66,
   "metadata": {
    "ExecuteTime": {
     "end_time": "2021-10-03T10:44:14.645395Z",
     "start_time": "2021-10-03T10:44:14.043911Z"
    },
    "executionInfo": {
     "elapsed": 942,
     "status": "ok",
     "timestamp": 1633252296468,
     "user": {
      "displayName": "이지영",
      "photoUrl": "https://lh3.googleusercontent.com/a-/AOh14Gj2chENaxtL9YdQguKPKFbRgoMTO7ZXePMYvNlMJQ=s64",
      "userId": "07841351895075120936"
     },
     "user_tz": -540
    },
    "id": "KmkGhDAUIPrV"
   },
   "outputs": [],
   "source": [
    "#단어 수\n",
    "train['num_words'] = clean_train_reviews.apply(lambda x: len(str(x).split()))\n",
    "#중복을 제거한 단어 수\n",
    "train['num_uniq_words'] = clean_train_reviews.apply(lambda x: len(set(str(x).split())))"
   ]
  },
  {
   "cell_type": "code",
   "execution_count": 67,
   "metadata": {
    "ExecuteTime": {
     "end_time": "2021-10-03T10:44:15.677987Z",
     "start_time": "2021-10-03T10:44:15.467372Z"
    },
    "executionInfo": {
     "elapsed": 471,
     "status": "ok",
     "timestamp": 1633252296935,
     "user": {
      "displayName": "이지영",
      "photoUrl": "https://lh3.googleusercontent.com/a-/AOh14Gj2chENaxtL9YdQguKPKFbRgoMTO7ZXePMYvNlMJQ=s64",
      "userId": "07841351895075120936"
     },
     "user_tz": -540
    },
    "id": "yI-2HAMRI3yn"
   },
   "outputs": [],
   "source": [
    "test['num_uniq_words'] = clean_train_reviews.apply(lambda x: len(str(x).split()))"
   ]
  },
  {
   "cell_type": "code",
   "execution_count": 68,
   "metadata": {
    "ExecuteTime": {
     "end_time": "2021-10-03T10:44:16.508473Z",
     "start_time": "2021-10-03T10:44:16.500535Z"
    },
    "colab": {
     "base_uri": "https://localhost:8080/"
    },
    "executionInfo": {
     "elapsed": 10,
     "status": "ok",
     "timestamp": 1633252296936,
     "user": {
      "displayName": "이지영",
      "photoUrl": "https://lh3.googleusercontent.com/a-/AOh14Gj2chENaxtL9YdQguKPKFbRgoMTO7ZXePMYvNlMJQ=s64",
      "userId": "07841351895075120936"
     },
     "user_tz": -540
    },
    "id": "Ppm_GH9UJBAj",
    "outputId": "57e87de0-e710-4293-be26-b25b277dc01b"
   },
   "outputs": [
    {
     "name": "stdout",
     "output_type": "stream",
     "text": [
      "219\n"
     ]
    },
    {
     "data": {
      "text/plain": [
       "['stuff',\n",
       " 'go',\n",
       " 'moment',\n",
       " 'mj',\n",
       " 'start',\n",
       " 'listen',\n",
       " 'music',\n",
       " 'watch',\n",
       " 'odd',\n",
       " 'documentari']"
      ]
     },
     "execution_count": 68,
     "metadata": {},
     "output_type": "execute_result"
    }
   ],
   "source": [
    "#위 함수에 대한 이해를 위해 첫 번째 리뷰로 돌아가는 모습을 체크\n",
    "\n",
    "x = clean_train_reviews[0]\n",
    "x = str(x).split()\n",
    "print(len(x))\n",
    "x[:10]"
   ]
  },
  {
   "cell_type": "code",
   "execution_count": 69,
   "metadata": {
    "ExecuteTime": {
     "end_time": "2021-10-03T10:44:19.855944Z",
     "start_time": "2021-10-03T10:44:18.880684Z"
    },
    "colab": {
     "base_uri": "https://localhost:8080/",
     "height": 1000
    },
    "executionInfo": {
     "elapsed": 1341,
     "status": "ok",
     "timestamp": 1633252298271,
     "user": {
      "displayName": "이지영",
      "photoUrl": "https://lh3.googleusercontent.com/a-/AOh14Gj2chENaxtL9YdQguKPKFbRgoMTO7ZXePMYvNlMJQ=s64",
      "userId": "07841351895075120936"
     },
     "user_tz": -540
    },
    "id": "Zy9JaGPvJga7",
    "outputId": "bb4e5b14-4482-4e27-db88-7509cec4a308"
   },
   "outputs": [
    {
     "name": "stdout",
     "output_type": "stream",
     "text": [
      "리뷰별 단어 평균 값 : 119.52356\n",
      "리뷰별 단어 중간 값 : 89.0\n",
      "리뷰별 고유 단어 평균 값 : 94.05756\n",
      "리뷰별 고유 단어 중간 값 : 74.0\n"
     ]
    },
    {
     "name": "stderr",
     "output_type": "stream",
     "text": [
      "/Users/ijiyeong/opt/anaconda3/envs/tensor/lib/python3.7/site-packages/seaborn/distributions.py:2557: FutureWarning: `distplot` is a deprecated function and will be removed in a future version. Please adapt your code to use either `displot` (a figure-level function with similar flexibility) or `histplot` (an axes-level function for histograms).\n",
      "  warnings.warn(msg, FutureWarning)\n",
      "/Users/ijiyeong/opt/anaconda3/envs/tensor/lib/python3.7/site-packages/seaborn/distributions.py:2557: FutureWarning: `distplot` is a deprecated function and will be removed in a future version. Please adapt your code to use either `displot` (a figure-level function with similar flexibility) or `histplot` (an axes-level function for histograms).\n",
      "  warnings.warn(msg, FutureWarning)\n"
     ]
    },
    {
     "data": {
      "text/plain": [
       "Text(0.5, 1.0, '리뷰별 고유한 단어 수 분포')"
      ]
     },
     "execution_count": 69,
     "metadata": {},
     "output_type": "execute_result"
    },
    {
     "name": "stderr",
     "output_type": "stream",
     "text": [
      "/Users/ijiyeong/opt/anaconda3/envs/tensor/lib/python3.7/site-packages/matplotlib/backends/backend_agg.py:240: RuntimeWarning: Glyph 47532 missing from current font.\n",
      "  font.set_text(s, 0.0, flags=flags)\n",
      "/Users/ijiyeong/opt/anaconda3/envs/tensor/lib/python3.7/site-packages/matplotlib/backends/backend_agg.py:240: RuntimeWarning: Glyph 48624 missing from current font.\n",
      "  font.set_text(s, 0.0, flags=flags)\n",
      "/Users/ijiyeong/opt/anaconda3/envs/tensor/lib/python3.7/site-packages/matplotlib/backends/backend_agg.py:240: RuntimeWarning: Glyph 48324 missing from current font.\n",
      "  font.set_text(s, 0.0, flags=flags)\n",
      "/Users/ijiyeong/opt/anaconda3/envs/tensor/lib/python3.7/site-packages/matplotlib/backends/backend_agg.py:240: RuntimeWarning: Glyph 45800 missing from current font.\n",
      "  font.set_text(s, 0.0, flags=flags)\n",
      "/Users/ijiyeong/opt/anaconda3/envs/tensor/lib/python3.7/site-packages/matplotlib/backends/backend_agg.py:240: RuntimeWarning: Glyph 50612 missing from current font.\n",
      "  font.set_text(s, 0.0, flags=flags)\n",
      "/Users/ijiyeong/opt/anaconda3/envs/tensor/lib/python3.7/site-packages/matplotlib/backends/backend_agg.py:240: RuntimeWarning: Glyph 49688 missing from current font.\n",
      "  font.set_text(s, 0.0, flags=flags)\n",
      "/Users/ijiyeong/opt/anaconda3/envs/tensor/lib/python3.7/site-packages/matplotlib/backends/backend_agg.py:240: RuntimeWarning: Glyph 48516 missing from current font.\n",
      "  font.set_text(s, 0.0, flags=flags)\n",
      "/Users/ijiyeong/opt/anaconda3/envs/tensor/lib/python3.7/site-packages/matplotlib/backends/backend_agg.py:240: RuntimeWarning: Glyph 54252 missing from current font.\n",
      "  font.set_text(s, 0.0, flags=flags)\n",
      "/Users/ijiyeong/opt/anaconda3/envs/tensor/lib/python3.7/site-packages/matplotlib/backends/backend_agg.py:203: RuntimeWarning: Glyph 47532 missing from current font.\n",
      "  font.set_text(s, 0, flags=flags)\n",
      "/Users/ijiyeong/opt/anaconda3/envs/tensor/lib/python3.7/site-packages/matplotlib/backends/backend_agg.py:203: RuntimeWarning: Glyph 48624 missing from current font.\n",
      "  font.set_text(s, 0, flags=flags)\n",
      "/Users/ijiyeong/opt/anaconda3/envs/tensor/lib/python3.7/site-packages/matplotlib/backends/backend_agg.py:203: RuntimeWarning: Glyph 48324 missing from current font.\n",
      "  font.set_text(s, 0, flags=flags)\n",
      "/Users/ijiyeong/opt/anaconda3/envs/tensor/lib/python3.7/site-packages/matplotlib/backends/backend_agg.py:203: RuntimeWarning: Glyph 45800 missing from current font.\n",
      "  font.set_text(s, 0, flags=flags)\n",
      "/Users/ijiyeong/opt/anaconda3/envs/tensor/lib/python3.7/site-packages/matplotlib/backends/backend_agg.py:203: RuntimeWarning: Glyph 50612 missing from current font.\n",
      "  font.set_text(s, 0, flags=flags)\n",
      "/Users/ijiyeong/opt/anaconda3/envs/tensor/lib/python3.7/site-packages/matplotlib/backends/backend_agg.py:203: RuntimeWarning: Glyph 49688 missing from current font.\n",
      "  font.set_text(s, 0, flags=flags)\n",
      "/Users/ijiyeong/opt/anaconda3/envs/tensor/lib/python3.7/site-packages/matplotlib/backends/backend_agg.py:203: RuntimeWarning: Glyph 48516 missing from current font.\n",
      "  font.set_text(s, 0, flags=flags)\n",
      "/Users/ijiyeong/opt/anaconda3/envs/tensor/lib/python3.7/site-packages/matplotlib/backends/backend_agg.py:203: RuntimeWarning: Glyph 54252 missing from current font.\n",
      "  font.set_text(s, 0, flags=flags)\n",
      "/Users/ijiyeong/opt/anaconda3/envs/tensor/lib/python3.7/site-packages/matplotlib/backends/backend_agg.py:240: RuntimeWarning: Glyph 44256 missing from current font.\n",
      "  font.set_text(s, 0.0, flags=flags)\n",
      "/Users/ijiyeong/opt/anaconda3/envs/tensor/lib/python3.7/site-packages/matplotlib/backends/backend_agg.py:240: RuntimeWarning: Glyph 50976 missing from current font.\n",
      "  font.set_text(s, 0.0, flags=flags)\n",
      "/Users/ijiyeong/opt/anaconda3/envs/tensor/lib/python3.7/site-packages/matplotlib/backends/backend_agg.py:240: RuntimeWarning: Glyph 54620 missing from current font.\n",
      "  font.set_text(s, 0.0, flags=flags)\n",
      "/Users/ijiyeong/opt/anaconda3/envs/tensor/lib/python3.7/site-packages/matplotlib/backends/backend_agg.py:203: RuntimeWarning: Glyph 44256 missing from current font.\n",
      "  font.set_text(s, 0, flags=flags)\n",
      "/Users/ijiyeong/opt/anaconda3/envs/tensor/lib/python3.7/site-packages/matplotlib/backends/backend_agg.py:203: RuntimeWarning: Glyph 50976 missing from current font.\n",
      "  font.set_text(s, 0, flags=flags)\n",
      "/Users/ijiyeong/opt/anaconda3/envs/tensor/lib/python3.7/site-packages/matplotlib/backends/backend_agg.py:203: RuntimeWarning: Glyph 54620 missing from current font.\n",
      "  font.set_text(s, 0, flags=flags)\n"
     ]
    },
    {
     "data": {
      "image/png": "[encoded data removed]",
      "text/plain": [
       "<Figure size 1296x432 with 2 Axes>"
      ]
     },
     "metadata": {
      "image/png": {
       "height": 386,
       "width": 1068
      },
      "needs_background": "light"
     },
     "output_type": "display_data"
    }
   ],
   "source": [
    "import seaborn as sns\n",
    "import matplotlib.pyplot as plt\n",
    "\n",
    "plt.rc('font', family='NanumBarunGothic') \n",
    "\n",
    "fig,axes = plt.subplots(ncols=2)\n",
    "fig.set_size_inches(18, 6)\n",
    "print('리뷰별 단어 평균 값 :', train['num_words'].mean())\n",
    "print('리뷰별 단어 중간 값 :', train['num_words'].median())\n",
    "sns.distplot(train['num_words'], bins=100, ax=axes[0])\n",
    "axes[0].axvline(train['num_words'].median(), linestyle='dashed') #중간값 표시\n",
    "axes[0].set_title('리뷰별 단어 수 분포')\n",
    "\n",
    "print('리뷰별 고유 단어 평균 값 :', train['num_uniq_words'].mean())\n",
    "print('리뷰별 고유 단어 중간 값 :', train['num_uniq_words'].median())\n",
    "sns.distplot(train['num_uniq_words'], bins=100, color='g', ax=axes[1])\n",
    "axes[1].axvline(train['num_words'].median(), linestyle='dashed')\n",
    "axes[1].set_title('리뷰별 고유한 단어 수 분포')"
   ]
  },
  {
   "cell_type": "markdown",
   "metadata": {
    "executionInfo": {
     "elapsed": 12,
     "status": "ok",
     "timestamp": 1633252298272,
     "user": {
      "displayName": "이지영",
      "photoUrl": "https://lh3.googleusercontent.com/a-/AOh14Gj2chENaxtL9YdQguKPKFbRgoMTO7ZXePMYvNlMJQ=s64",
      "userId": "07841351895075120936"
     },
     "user_tz": -540
    },
    "id": "XX3j4sFILSYU"
   },
   "source": [
    "#Vector"
   ]
  },
  {
   "cell_type": "code",
   "execution_count": 70,
   "metadata": {
    "ExecuteTime": {
     "end_time": "2021-10-03T10:44:23.057329Z",
     "start_time": "2021-10-03T10:44:23.047879Z"
    },
    "colab": {
     "base_uri": "https://localhost:8080/"
    },
    "executionInfo": {
     "elapsed": 344,
     "status": "ok",
     "timestamp": 1633255848269,
     "user": {
      "displayName": "이지영",
      "photoUrl": "https://lh3.googleusercontent.com/a-/AOh14Gj2chENaxtL9YdQguKPKFbRgoMTO7ZXePMYvNlMJQ=s64",
      "userId": "07841351895075120936"
     },
     "user_tz": -540
    },
    "id": "4pusbSq1Vx5k",
    "outputId": "1f46dd6c-01cb-46aa-f526-cd0d50d895d8"
   },
   "outputs": [
    {
     "data": {
      "text/plain": [
       "CountVectorizer(max_features=20000, min_df=2, ngram_range=(1, 3))"
      ]
     },
     "execution_count": 70,
     "metadata": {},
     "output_type": "execute_result"
    }
   ],
   "source": [
    "from sklearn.feature_extraction.text import CountVectorizer\n",
    "from sklearn.pipeline import Pipeline\n",
    "\n",
    "#튜토리얼과 다르게 파라메터 값을 수정해서 적용\n",
    "# 파라메터 값만 수정해도 캐글 스코어와 많은 차이가 남\n",
    "\n",
    "vectorizer = CountVectorizer(analyzer= \"word\",\n",
    "                             tokenizer = None,\n",
    "                             preprocessor = None,\n",
    "                             stop_words = None,\n",
    "                             min_df = 2, #토큰이 나타날 최소 문서 갯수\n",
    "                             ngram_range=(1,3),\n",
    "                             max_features = 20000\n",
    "                             )\n",
    "vectorizer"
   ]
  },
  {
   "cell_type": "code",
   "execution_count": 71,
   "metadata": {
    "ExecuteTime": {
     "end_time": "2021-10-03T10:44:24.035900Z",
     "start_time": "2021-10-03T10:44:24.031829Z"
    },
    "executionInfo": {
     "elapsed": 3,
     "status": "ok",
     "timestamp": 1633255849791,
     "user": {
      "displayName": "이지영",
      "photoUrl": "https://lh3.googleusercontent.com/a-/AOh14Gj2chENaxtL9YdQguKPKFbRgoMTO7ZXePMYvNlMJQ=s64",
      "userId": "07841351895075120936"
     },
     "user_tz": -540
    },
    "id": "7ijynFU0V-ii"
   },
   "outputs": [],
   "source": [
    "#pipeline은 features engineering의 여러과정을 묶어 사용할때 사용한다.\n",
    "#그러나 여기서는 한개의 과정만을 사용하기에 불필요할 수 있으나 그냥 사용하기로 한다. 경험상\n",
    "\n",
    "pipeline = Pipeline([\n",
    "                     ('vect', vectorizer),\n",
    "])"
   ]
  },
  {
   "cell_type": "code",
   "execution_count": 72,
   "metadata": {
    "ExecuteTime": {
     "end_time": "2021-10-03T10:44:54.241181Z",
     "start_time": "2021-10-03T10:44:25.330823Z"
    },
    "colab": {
     "base_uri": "https://localhost:8080/"
    },
    "executionInfo": {
     "elapsed": 30429,
     "status": "ok",
     "timestamp": 1633255881959,
     "user": {
      "displayName": "이지영",
      "photoUrl": "https://lh3.googleusercontent.com/a-/AOh14Gj2chENaxtL9YdQguKPKFbRgoMTO7ZXePMYvNlMJQ=s64",
      "userId": "07841351895075120936"
     },
     "user_tz": -540
    },
    "id": "-HGmptgoXUwP",
    "outputId": "39c4f524-5539-44d2-bc99-fc3a0c2ebbac"
   },
   "outputs": [
    {
     "name": "stdout",
     "output_type": "stream",
     "text": [
      "CPU times: user 3 µs, sys: 1 µs, total: 4 µs\n",
      "Wall time: 8.34 µs\n"
     ]
    },
    {
     "data": {
      "text/plain": [
       "<25000x20000 sparse matrix of type '<class 'numpy.int64'>'\n",
       "\twith 2762268 stored elements in Compressed Sparse Row format>"
      ]
     },
     "execution_count": 72,
     "metadata": {},
     "output_type": "execute_result"
    }
   ],
   "source": [
    "%time\n",
    "train_data_features = pipeline.fit_transform(clean_train_reviews)\n",
    "train_data_features"
   ]
  },
  {
   "cell_type": "code",
   "execution_count": 73,
   "metadata": {
    "ExecuteTime": {
     "end_time": "2021-10-03T10:44:54.249016Z",
     "start_time": "2021-10-03T10:44:54.244101Z"
    },
    "colab": {
     "base_uri": "https://localhost:8080/"
    },
    "executionInfo": {
     "elapsed": 26,
     "status": "ok",
     "timestamp": 1633255881960,
     "user": {
      "displayName": "이지영",
      "photoUrl": "https://lh3.googleusercontent.com/a-/AOh14Gj2chENaxtL9YdQguKPKFbRgoMTO7ZXePMYvNlMJQ=s64",
      "userId": "07841351895075120936"
     },
     "user_tz": -540
    },
    "id": "BVCQ8c0kXgSc",
    "outputId": "08bb87ea-6d62-4d23-d1ba-dd3447938fae"
   },
   "outputs": [
    {
     "data": {
      "text/plain": [
       "(25000, 20000)"
      ]
     },
     "execution_count": 73,
     "metadata": {},
     "output_type": "execute_result"
    }
   ],
   "source": [
    "train_data_features.shape"
   ]
  },
  {
   "cell_type": "code",
   "execution_count": 74,
   "metadata": {
    "ExecuteTime": {
     "end_time": "2021-10-03T10:44:54.321036Z",
     "start_time": "2021-10-03T10:44:54.250589Z"
    },
    "colab": {
     "base_uri": "https://localhost:8080/"
    },
    "executionInfo": {
     "elapsed": 19,
     "status": "ok",
     "timestamp": 1633255881960,
     "user": {
      "displayName": "이지영",
      "photoUrl": "https://lh3.googleusercontent.com/a-/AOh14Gj2chENaxtL9YdQguKPKFbRgoMTO7ZXePMYvNlMJQ=s64",
      "userId": "07841351895075120936"
     },
     "user_tz": -540
    },
    "id": "24NC6FE-X3V0",
    "outputId": "3ea9e69d-5815-4535-ea69-e59d5dd23b37"
   },
   "outputs": [
    {
     "name": "stdout",
     "output_type": "stream",
     "text": [
      "20000\n"
     ]
    },
    {
     "data": {
      "text/plain": [
       "['aag',\n",
       " 'aaron',\n",
       " 'ab',\n",
       " 'abandon',\n",
       " 'abbey',\n",
       " 'abbi',\n",
       " 'abbot',\n",
       " 'abbott',\n",
       " 'abc',\n",
       " 'abduct']"
      ]
     },
     "execution_count": 74,
     "metadata": {},
     "output_type": "execute_result"
    }
   ],
   "source": [
    "vocab = vectorizer.get_feature_names()\n",
    "print(len(vocab))\n",
    "vocab[:10]"
   ]
  },
  {
   "cell_type": "code",
   "execution_count": 75,
   "metadata": {
    "ExecuteTime": {
     "end_time": "2021-10-03T10:44:54.373991Z",
     "start_time": "2021-10-03T10:44:54.325765Z"
    },
    "colab": {
     "base_uri": "https://localhost:8080/",
     "height": 165
    },
    "executionInfo": {
     "elapsed": 489,
     "status": "ok",
     "timestamp": 1633255925980,
     "user": {
      "displayName": "이지영",
      "photoUrl": "https://lh3.googleusercontent.com/a-/AOh14Gj2chENaxtL9YdQguKPKFbRgoMTO7ZXePMYvNlMJQ=s64",
      "userId": "07841351895075120936"
     },
     "user_tz": -540
    },
    "id": "FqsGnrEfYBrl",
    "outputId": "73a0df5c-f50b-4549-c6ff-655f3cd7dc7c"
   },
   "outputs": [
    {
     "name": "stdout",
     "output_type": "stream",
     "text": [
      "[[26 48 22 ... 59 40 23]] aag\n"
     ]
    },
    {
     "data": {
      "text/html": [
       "<div>\n",
       "<style scoped>\n",
       "    .dataframe tbody tr th:only-of-type {\n",
       "        vertical-align: middle;\n",
       "    }\n",
       "\n",
       "    .dataframe tbody tr th {\n",
       "        vertical-align: top;\n",
       "    }\n",
       "\n",
       "    .dataframe thead th {\n",
       "        text-align: right;\n",
       "    }\n",
       "</style>\n",
       "<table border=\"1\" class=\"dataframe\">\n",
       "  <thead>\n",
       "    <tr style=\"text-align: right;\">\n",
       "      <th></th>\n",
       "      <th>aag</th>\n",
       "      <th>aaron</th>\n",
       "      <th>ab</th>\n",
       "      <th>abandon</th>\n",
       "      <th>abbey</th>\n",
       "      <th>abbi</th>\n",
       "      <th>abbot</th>\n",
       "      <th>abbott</th>\n",
       "      <th>abc</th>\n",
       "      <th>abduct</th>\n",
       "      <th>...</th>\n",
       "      <th>zombi bloodbath</th>\n",
       "      <th>zombi film</th>\n",
       "      <th>zombi flick</th>\n",
       "      <th>zombi movi</th>\n",
       "      <th>zone</th>\n",
       "      <th>zoo</th>\n",
       "      <th>zoom</th>\n",
       "      <th>zorro</th>\n",
       "      <th>zu</th>\n",
       "      <th>zucker</th>\n",
       "    </tr>\n",
       "  </thead>\n",
       "  <tbody>\n",
       "    <tr>\n",
       "      <th>0</th>\n",
       "      <td>26</td>\n",
       "      <td>48</td>\n",
       "      <td>22</td>\n",
       "      <td>288</td>\n",
       "      <td>24</td>\n",
       "      <td>30</td>\n",
       "      <td>29</td>\n",
       "      <td>30</td>\n",
       "      <td>125</td>\n",
       "      <td>55</td>\n",
       "      <td>...</td>\n",
       "      <td>23</td>\n",
       "      <td>52</td>\n",
       "      <td>37</td>\n",
       "      <td>89</td>\n",
       "      <td>161</td>\n",
       "      <td>31</td>\n",
       "      <td>71</td>\n",
       "      <td>59</td>\n",
       "      <td>40</td>\n",
       "      <td>23</td>\n",
       "    </tr>\n",
       "  </tbody>\n",
       "</table>\n",
       "<p>1 rows × 20000 columns</p>\n",
       "</div>"
      ],
      "text/plain": [
       "   aag  aaron  ab  abandon  abbey  abbi  abbot  abbott  abc  abduct  ...  \\\n",
       "0   26     48  22      288     24    30     29      30  125      55  ...   \n",
       "\n",
       "   zombi bloodbath  zombi film  zombi flick  zombi movi  zone  zoo  zoom  \\\n",
       "0               23          52           37          89   161   31    71   \n",
       "\n",
       "   zorro  zu  zucker  \n",
       "0     59  40      23  \n",
       "\n",
       "[1 rows x 20000 columns]"
      ]
     },
     "execution_count": 75,
     "metadata": {},
     "output_type": "execute_result"
    }
   ],
   "source": [
    "#vector화 되어진 피쳐를 확인해본다.\n",
    "\n",
    "import numpy as np\n",
    "\n",
    "dist = np.sum(train_data_features, axis=0)\n",
    "\n",
    "for tag, count in zip(vocab, dist):\n",
    "  print(count, tag)\n",
    "\n",
    "pd.DataFrame(dist, columns=vocab)"
   ]
  },
  {
   "cell_type": "code",
   "execution_count": 76,
   "metadata": {
    "ExecuteTime": {
     "end_time": "2021-10-03T10:44:54.385999Z",
     "start_time": "2021-10-03T10:44:54.377345Z"
    },
    "colab": {
     "base_uri": "https://localhost:8080/"
    },
    "executionInfo": {
     "elapsed": 369,
     "status": "ok",
     "timestamp": 1633255987021,
     "user": {
      "displayName": "이지영",
      "photoUrl": "https://lh3.googleusercontent.com/a-/AOh14Gj2chENaxtL9YdQguKPKFbRgoMTO7ZXePMYvNlMJQ=s64",
      "userId": "07841351895075120936"
     },
     "user_tz": -540
    },
    "id": "2A1jL1FeYb9S",
    "outputId": "cd1829f3-8643-4dfa-a389-eff0017b69b1"
   },
   "outputs": [
    {
     "data": {
      "text/plain": [
       "RandomForestClassifier(n_jobs=-1, random_state=10)"
      ]
     },
     "execution_count": 76,
     "metadata": {},
     "output_type": "execute_result"
    }
   ],
   "source": [
    "#randomfrest를 이용해 분석\n",
    "\n",
    "from sklearn.ensemble import RandomForestClassifier\n",
    "\n",
    "forest = RandomForestClassifier(\n",
    "    n_estimators = 100, n_jobs = -1, random_state=10)\n",
    "forest\n"
   ]
  },
  {
   "cell_type": "code",
   "execution_count": 77,
   "metadata": {
    "ExecuteTime": {
     "end_time": "2021-10-03T10:45:05.551235Z",
     "start_time": "2021-10-03T10:44:54.388676Z"
    },
    "colab": {
     "base_uri": "https://localhost:8080/"
    },
    "executionInfo": {
     "elapsed": 39794,
     "status": "ok",
     "timestamp": 1633256053471,
     "user": {
      "displayName": "이지영",
      "photoUrl": "https://lh3.googleusercontent.com/a-/AOh14Gj2chENaxtL9YdQguKPKFbRgoMTO7ZXePMYvNlMJQ=s64",
      "userId": "07841351895075120936"
     },
     "user_tz": -540
    },
    "id": "2nxn9uRUY7lS",
    "outputId": "d3382d1b-63a9-4413-d06f-a0bb0e19297f"
   },
   "outputs": [
    {
     "name": "stdout",
     "output_type": "stream",
     "text": [
      "CPU times: user 6 µs, sys: 14 µs, total: 20 µs\n",
      "Wall time: 22.6 µs\n"
     ]
    }
   ],
   "source": [
    "%time\n",
    "forest = forest.fit(train_data_features, train['sentiment'])"
   ]
  },
  {
   "cell_type": "code",
   "execution_count": 78,
   "metadata": {
    "ExecuteTime": {
     "end_time": "2021-10-03T10:46:52.869763Z",
     "start_time": "2021-10-03T10:45:05.554841Z"
    },
    "colab": {
     "base_uri": "https://localhost:8080/",
     "height": 503
    },
    "executionInfo": {
     "elapsed": 83899,
     "status": "error",
     "timestamp": 1633256662686,
     "user": {
      "displayName": "이지영",
      "photoUrl": "https://lh3.googleusercontent.com/a-/AOh14Gj2chENaxtL9YdQguKPKFbRgoMTO7ZXePMYvNlMJQ=s64",
      "userId": "07841351895075120936"
     },
     "user_tz": -540
    },
    "id": "BS0YzmRFZJ4i",
    "outputId": "f86993ef-9f08-43f2-e474-755a91579b1f"
   },
   "outputs": [
    {
     "name": "stdout",
     "output_type": "stream",
     "text": [
      "CPU times: user 9.4 s, sys: 3.32 s, total: 12.7 s\n",
      "Wall time: 1min 47s\n"
     ]
    }
   ],
   "source": [
    "from sklearn.model_selection import cross_val_score\n",
    "%time score = np.mean(cross_val_score(\\\n",
    "                forest, train_data_features,\\\n",
    "                train['sentiment'], cv=10, scoring='roc_auc'))"
   ]
  },
  {
   "cell_type": "code",
   "execution_count": 79,
   "metadata": {
    "ExecuteTime": {
     "end_time": "2021-10-03T10:46:52.877967Z",
     "start_time": "2021-10-03T10:46:52.872382Z"
    },
    "id": "7GqsTOTVrePb"
   },
   "outputs": [
    {
     "data": {
      "text/plain": [
       "0.9282938239999998"
      ]
     },
     "execution_count": 79,
     "metadata": {},
     "output_type": "execute_result"
    }
   ],
   "source": [
    "score"
   ]
  },
  {
   "cell_type": "code",
   "execution_count": 80,
   "metadata": {
    "ExecuteTime": {
     "end_time": "2021-10-03T10:46:52.887267Z",
     "start_time": "2021-10-03T10:46:52.880768Z"
    },
    "executionInfo": {
     "elapsed": 15,
     "status": "aborted",
     "timestamp": 1633252921926,
     "user": {
      "displayName": "이지영",
      "photoUrl": "https://lh3.googleusercontent.com/a-/AOh14Gj2chENaxtL9YdQguKPKFbRgoMTO7ZXePMYvNlMJQ=s64",
      "userId": "07841351895075120936"
     },
     "user_tz": -540
    },
    "id": "QQCicaedZjr3"
   },
   "outputs": [
    {
     "data": {
      "text/plain": [
       "'natur film main theme mortal nostalgia loss innoc perhap surpris rate high older viewer younger one howev craftsmanship complet film anyon enjoy pace steadi constant charact full engag relationship interact natur show need flood tear show emot scream show fear shout show disput violenc show anger natur joyc short stori lend film readi made structur perfect polish diamond small chang huston make inclus poem fit neat truli masterpiec tact subtleti overwhelm beauti'"
      ]
     },
     "execution_count": 80,
     "metadata": {},
     "output_type": "execute_result"
    }
   ],
   "source": [
    "clean_test_reviews[0]"
   ]
  },
  {
   "cell_type": "code",
   "execution_count": 81,
   "metadata": {
    "ExecuteTime": {
     "end_time": "2021-10-03T10:47:02.726403Z",
     "start_time": "2021-10-03T10:46:52.902475Z"
    },
    "id": "Il-QgoXsa7Bh"
   },
   "outputs": [
    {
     "name": "stdout",
     "output_type": "stream",
     "text": [
      "CPU times: user 3 µs, sys: 1 µs, total: 4 µs\n",
      "Wall time: 6.91 µs\n"
     ]
    }
   ],
   "source": [
    "%time\n",
    "test_data_features = pipeline.transform(clean_test_reviews)\n",
    "test_data_features = test_data_features.toarray()"
   ]
  },
  {
   "cell_type": "code",
   "execution_count": 82,
   "metadata": {
    "ExecuteTime": {
     "end_time": "2021-10-03T10:47:02.745403Z",
     "start_time": "2021-10-03T10:47:02.732091Z"
    },
    "id": "DWRkClaHbKkU"
   },
   "outputs": [
    {
     "data": {
      "text/plain": [
       "array([[0, 0, 0, ..., 0, 0, 0],\n",
       "       [0, 0, 0, ..., 0, 0, 0],\n",
       "       [0, 0, 0, ..., 0, 0, 0],\n",
       "       ...,\n",
       "       [0, 0, 0, ..., 0, 0, 0],\n",
       "       [0, 0, 0, ..., 0, 0, 0],\n",
       "       [0, 0, 0, ..., 0, 0, 0]])"
      ]
     },
     "execution_count": 82,
     "metadata": {},
     "output_type": "execute_result"
    }
   ],
   "source": [
    "test_data_features"
   ]
  },
  {
   "cell_type": "code",
   "execution_count": 83,
   "metadata": {
    "ExecuteTime": {
     "end_time": "2021-10-03T10:48:30.122617Z",
     "start_time": "2021-10-03T10:48:30.113904Z"
    },
    "id": "Wis3vVkobNYw"
   },
   "outputs": [
    {
     "data": {
      "text/plain": [
       "('abc', 'audienc know', 'alert')"
      ]
     },
     "execution_count": 83,
     "metadata": {},
     "output_type": "execute_result"
    }
   ],
   "source": [
    "#벡터화 하며 만든 사전에서 해당 단어가 무엇인지 확인이 가능하다.\n",
    "#vocab = vectorizer.get_feature_names()\n",
    "\n",
    "vocab[8], vocab[1004], vocab[409]"
   ]
  },
  {
   "cell_type": "code",
   "execution_count": 87,
   "metadata": {
    "ExecuteTime": {
     "end_time": "2021-10-03T10:49:56.730503Z",
     "start_time": "2021-10-03T10:49:49.212101Z"
    },
    "id": "NjSKnjnZbqGx"
   },
   "outputs": [
    {
     "data": {
      "text/plain": [
       "array([1, 0, 1, 1, 1, 0, 0, 1, 0, 1])"
      ]
     },
     "execution_count": 87,
     "metadata": {},
     "output_type": "execute_result"
    }
   ],
   "source": [
    "result = forest.predict(test_data_features)\n",
    "result[:10]"
   ]
  },
  {
   "cell_type": "markdown",
   "metadata": {},
   "source": [
    "kaggle에 제출하기위한 준비"
   ]
  },
  {
   "cell_type": "code",
   "execution_count": 88,
   "metadata": {
    "ExecuteTime": {
     "end_time": "2021-10-03T10:50:46.362943Z",
     "start_time": "2021-10-03T10:50:46.327057Z"
    },
    "id": "L21Mli7SbtNx"
   },
   "outputs": [
    {
     "data": {
      "text/html": [
       "<div>\n",
       "<style scoped>\n",
       "    .dataframe tbody tr th:only-of-type {\n",
       "        vertical-align: middle;\n",
       "    }\n",
       "\n",
       "    .dataframe tbody tr th {\n",
       "        vertical-align: top;\n",
       "    }\n",
       "\n",
       "    .dataframe thead th {\n",
       "        text-align: right;\n",
       "    }\n",
       "</style>\n",
       "<table border=\"1\" class=\"dataframe\">\n",
       "  <thead>\n",
       "    <tr style=\"text-align: right;\">\n",
       "      <th></th>\n",
       "      <th>id</th>\n",
       "      <th>sentiment</th>\n",
       "    </tr>\n",
       "  </thead>\n",
       "  <tbody>\n",
       "    <tr>\n",
       "      <th>0</th>\n",
       "      <td>\"12311_10\"</td>\n",
       "      <td>1</td>\n",
       "    </tr>\n",
       "    <tr>\n",
       "      <th>1</th>\n",
       "      <td>\"8348_2\"</td>\n",
       "      <td>0</td>\n",
       "    </tr>\n",
       "    <tr>\n",
       "      <th>2</th>\n",
       "      <td>\"5828_4\"</td>\n",
       "      <td>1</td>\n",
       "    </tr>\n",
       "    <tr>\n",
       "      <th>3</th>\n",
       "      <td>\"7186_2\"</td>\n",
       "      <td>1</td>\n",
       "    </tr>\n",
       "    <tr>\n",
       "      <th>4</th>\n",
       "      <td>\"12128_7\"</td>\n",
       "      <td>1</td>\n",
       "    </tr>\n",
       "  </tbody>\n",
       "</table>\n",
       "</div>"
      ],
      "text/plain": [
       "           id  sentiment\n",
       "0  \"12311_10\"          1\n",
       "1    \"8348_2\"          0\n",
       "2    \"5828_4\"          1\n",
       "3    \"7186_2\"          1\n",
       "4   \"12128_7\"          1"
      ]
     },
     "execution_count": 88,
     "metadata": {},
     "output_type": "execute_result"
    }
   ],
   "source": [
    "output = pd.DataFrame(data={'id':test['id'], 'sentiment':result})\n",
    "output.head()"
   ]
  },
  {
   "cell_type": "code",
   "execution_count": 89,
   "metadata": {
    "ExecuteTime": {
     "end_time": "2021-10-03T10:57:34.576254Z",
     "start_time": "2021-10-03T10:57:34.517834Z"
    },
    "id": "hkgA_W7Wb6dF"
   },
   "outputs": [],
   "source": [
    "output.to_csv('./Bag_of_Word_Meets_Bags_of_Popcorn/tutorial_1_BOW_{0:.5f}.csv'.format(score), index=False, quoting=3)"
   ]
  },
  {
   "cell_type": "code",
   "execution_count": 90,
   "metadata": {
    "ExecuteTime": {
     "end_time": "2021-10-03T10:58:35.859170Z",
     "start_time": "2021-10-03T10:58:35.844237Z"
    }
   },
   "outputs": [
    {
     "name": "stdout",
     "output_type": "stream",
     "text": [
      "88\n"
     ]
    },
    {
     "data": {
      "text/plain": [
       "1    12544\n",
       "0    12456\n",
       "Name: sentiment, dtype: int64"
      ]
     },
     "execution_count": 90,
     "metadata": {},
     "output_type": "execute_result"
    }
   ],
   "source": [
    "output_sentiment = output['sentiment'].value_counts()\n",
    "print(np.abs(output_sentiment[0] - output_sentiment[1]))\n",
    "output_sentiment"
   ]
  },
  {
   "cell_type": "code",
   "execution_count": null,
   "metadata": {},
   "outputs": [],
   "source": []
  }
 ],
 "metadata": {
  "accelerator": "GPU",
  "colab": {
   "authorship_tag": "ABX9TyO6AS1ikfLwHGgvFD49juLm",
   "collapsed_sections": [],
   "name": "kaggle_Vector_popcorn.ipynb",
   "provenance": []
  },
  "kernelspec": {
   "display_name": "Python 3 (ipykernel)",
   "language": "python",
   "name": "python3"
  },
  "language_info": {
   "codemirror_mode": {
    "name": "ipython",
    "version": 3
   },
   "file_extension": ".py",
   "mimetype": "text/x-python",
   "name": "python",
   "nbconvert_exporter": "python",
   "pygments_lexer": "ipython3",
   "version": "3.7.0"
  },
  "toc": {
   "base_numbering": 1,
   "nav_menu": {},
   "number_sections": true,
   "sideBar": true,
   "skip_h1_title": false,
   "title_cell": "Table of Contents",
   "title_sidebar": "Contents",
   "toc_cell": false,
   "toc_position": {},
   "toc_section_display": true,
   "toc_window_display": false
  }
 },
 "nbformat": 4,
 "nbformat_minor": 1
}
